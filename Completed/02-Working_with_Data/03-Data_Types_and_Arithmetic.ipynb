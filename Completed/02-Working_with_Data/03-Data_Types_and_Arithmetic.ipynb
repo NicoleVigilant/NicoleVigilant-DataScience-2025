{
  "cells": [
    {
      "cell_type": "markdown",
      "id": "4b15b08b",
      "metadata": {
        "id": "4b15b08b"
      },
      "source": [
        "# 📘 03 - Data Types and Arithmetic\n",
        "\n",
        "Explore Python basics like variables, data types, and arithmetic operations."
      ]
    },
    {
      "cell_type": "markdown",
      "source": [],
      "metadata": {
        "id": "JuTvOToPGs9M"
      },
      "id": "JuTvOToPGs9M"
    },
    {
      "cell_type": "markdown",
      "id": "fe930277",
      "metadata": {
        "id": "fe930277"
      },
      "source": [
        "## ✅ Learning Goals\n",
        "- Understand Python data types\n",
        "- Use variables and print statements\n",
        "- Perform basic arithmetic"
      ]
    },
    {
      "cell_type": "markdown",
      "source": [
        "# Nicole Vigilant\n"
      ],
      "metadata": {
        "id": "9Be53kJ3HAPh"
      },
      "id": "9Be53kJ3HAPh"
    },
    {
      "cell_type": "code",
      "execution_count": 1,
      "id": "8e873f5b",
      "metadata": {
        "id": "8e873f5b",
        "outputId": "733bf2e1-75af-45d4-fdcd-a94ae0d65315",
        "colab": {
          "base_uri": "https://localhost:8080/"
        }
      },
      "outputs": [
        {
          "output_type": "stream",
          "name": "stdout",
          "text": [
            "<class 'int'> <class 'float'> <class 'str'>\n"
          ]
        }
      ],
      "source": [
        "# 🧠 Variables and Types\n",
        "x = 10\n",
        "y = 3.5\n",
        "z = 'hello'\n",
        "print(type(x), type(y), type(z))"
      ]
    },
    {
      "cell_type": "code",
      "execution_count": 2,
      "id": "e90e2be4",
      "metadata": {
        "id": "e90e2be4",
        "outputId": "f19b8b2b-f8fd-4cf3-9b17-7f9ff516f988",
        "colab": {
          "base_uri": "https://localhost:8080/"
        }
      },
      "outputs": [
        {
          "output_type": "stream",
          "name": "stdout",
          "text": [
            "Add: 13.5\n",
            "Divide: 2.857142857142857\n",
            "Floor Divide: 2.0\n",
            "Exponent: 100\n"
          ]
        }
      ],
      "source": [
        "# ➕ Arithmetic Operations\n",
        "print('Add:', x + y)\n",
        "print('Divide:', x / y)\n",
        "print('Floor Divide:', x // y)\n",
        "print('Exponent:', x ** 2)"
      ]
    },
    {
      "cell_type": "markdown",
      "id": "7e233e07",
      "metadata": {
        "id": "7e233e07"
      },
      "source": [
        "## ✏️ Try It Yourself\n",
        "- Create your own variables\n",
        "- Try combining numbers and strings\n",
        "- Use `input()` to interact"
      ]
    },
    {
      "cell_type": "code",
      "execution_count": 8,
      "id": "42b3fc61",
      "metadata": {
        "id": "42b3fc61",
        "outputId": "c88953c9-f9ac-49e7-9676-f94e3f26af73",
        "colab": {
          "base_uri": "https://localhost:8080/"
        }
      },
      "outputs": [
        {
          "output_type": "stream",
          "name": "stdout",
          "text": [
            "What is your favourite number? 10\n",
            "Your favourite number is 10\n",
            "Enter a number 2\n",
            "Enter another number 4\n",
            "The sum is, 6\n",
            "How old are you? 24\n",
            "You are 24 years old.\n",
            "What is your name? Nicole\n",
            "Welcome, Nicole\n"
          ]
        }
      ],
      "source": [
        "# Your code here\n",
        "fav_number = input('What is your favourite number? ')\n",
        "print('Your favourite number is', fav_number)\n",
        "num1 = int(input('Enter a number '))\n",
        "num2 = int(input('Enter another number '))\n",
        "result = num1 + num2\n",
        "print('The sum is,', result)\n",
        "age = input('How old are you? ')\n",
        "print('You are', age, 'years old.')\n",
        "name = input('What is your name? ')\n",
        "print('Welcome,', name)"
      ]
    },
    {
      "cell_type": "markdown",
      "id": "069d6eba",
      "metadata": {
        "id": "069d6eba"
      },
      "source": [
        "## 📤 Submit\n",
        "Make sure your name is at the top in a Markdown cell.\n",
        "Submit via D2L or Colab link."
      ]
    }
  ],
  "metadata": {
    "colab": {
      "provenance": []
    },
    "language_info": {
      "name": "python"
    },
    "kernelspec": {
      "name": "python3",
      "display_name": "Python 3"
    }
  },
  "nbformat": 4,
  "nbformat_minor": 5
}