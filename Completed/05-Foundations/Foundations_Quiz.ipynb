{
  "cells": [
    {
      "cell_type": "markdown",
      "metadata": {
        "id": "view-in-github",
        "colab_type": "text"
      },
      "source": [
        "<a href=\"https://colab.research.google.com/github/NicoleVigilant/NicoleVigilant-DataScience-2025/blob/main/Completed/05-Foundations/Foundations_Quiz.ipynb\" target=\"_parent\"><img src=\"https://colab.research.google.com/assets/colab-badge.svg\" alt=\"Open In Colab\"/></a>"
      ]
    },
    {
      "cell_type": "markdown",
      "metadata": {
        "id": "-AvL9dxH2Y_R"
      },
      "source": [
        "# 📝 Foundations Quiz\n",
        "\n",
        "This quiz covers material from the **Foundations** notebooks (01–08).  \n",
        "Answer each question in the provided cell. Some questions require code, others are written answers.\n"
      ],
      "id": "-AvL9dxH2Y_R"
    },
    {
      "cell_type": "markdown",
      "metadata": {
        "id": "5C_8rF172Y_S"
      },
      "source": [
        "## Q1. Magics\n",
        "What does `%whos` display? Write your answer below."
      ],
      "id": "5C_8rF172Y_S"
    },
    {
      "cell_type": "markdown",
      "metadata": {
        "id": "COGc2cZL2Y_T"
      },
      "source": [
        "*Your Answer:* It displays information about the variables you defined. So variable type and more information about that variable."
      ],
      "id": "COGc2cZL2Y_T"
    },
    {
      "cell_type": "markdown",
      "metadata": {
        "id": "ZZ9Lk1bX2Y_T"
      },
      "source": [
        "## Q2. Markdown\n",
        "Create a Markdown cell with a heading `## My Hobbies` and a bullet list of at least 3 hobbies."
      ],
      "id": "ZZ9Lk1bX2Y_T"
    },
    {
      "cell_type": "markdown",
      "metadata": {
        "id": "4DjvZx_o2Y_T"
      },
      "source": [
        "*Your Answer:*\n",
        "\n",
        "## My Hobbies\n",
        "\n",
        "\n",
        "*   Baking\n",
        "*   Gym\n",
        "*   Playing the sims 4\n",
        "\n"
      ],
      "id": "4DjvZx_o2Y_T"
    },
    {
      "cell_type": "markdown",
      "metadata": {
        "id": "LXtNGVWO2Y_T"
      },
      "source": [
        "## Q3. Files and Paths\n",
        "Use `%pwd` to print your current working directory."
      ],
      "id": "LXtNGVWO2Y_T"
    },
    {
      "cell_type": "code",
      "execution_count": 1,
      "metadata": {
        "id": "mWtOG3tJ2Y_T",
        "outputId": "aa03fe7c-fbce-472b-bb65-8acf2ea0f823",
        "colab": {
          "base_uri": "https://localhost:8080/",
          "height": 36
        }
      },
      "outputs": [
        {
          "output_type": "execute_result",
          "data": {
            "text/plain": [
              "'/content'"
            ],
            "application/vnd.google.colaboratory.intrinsic+json": {
              "type": "string"
            }
          },
          "metadata": {},
          "execution_count": 1
        }
      ],
      "source": [
        "%pwd"
      ],
      "id": "mWtOG3tJ2Y_T"
    },
    {
      "cell_type": "markdown",
      "metadata": {
        "id": "mR4ylTaH2Y_U"
      },
      "source": [
        "## Q4. File I/O\n",
        "Write Python code that saves `Hello World` to a file called `hello.txt`, then reads it back and prints the contents."
      ],
      "id": "mR4ylTaH2Y_U"
    },
    {
      "cell_type": "code",
      "execution_count": 2,
      "metadata": {
        "id": "VIja0Gy52Y_U",
        "outputId": "e65f43b6-012d-4f25-e823-ee075c9e5f59",
        "colab": {
          "base_uri": "https://localhost:8080/"
        }
      },
      "outputs": [
        {
          "output_type": "stream",
          "name": "stdout",
          "text": [
            "Hello World\n"
          ]
        }
      ],
      "source": [
        "with open('hello.txt', 'w') as f:\n",
        "    f.write('Hello World')\n",
        "\n",
        "with open('hello.txt', 'r') as f:\n",
        "    print(f.read())"
      ],
      "id": "VIja0Gy52Y_U"
    },
    {
      "cell_type": "markdown",
      "metadata": {
        "id": "XfxJxYfq2Y_U"
      },
      "source": [
        "## Q5. Data I/O\n",
        "Load the file `students.csv` (or create a small CSV yourself) with Pandas and show the first 5 rows."
      ],
      "id": "XfxJxYfq2Y_U"
    },
    {
      "cell_type": "code",
      "execution_count": 5,
      "metadata": {
        "id": "8fZY_Uje2Y_U",
        "outputId": "ab82df70-50af-45be-a8cf-16358f5b479e",
        "colab": {
          "base_uri": "https://localhost:8080/",
          "height": 175
        }
      },
      "outputs": [
        {
          "output_type": "execute_result",
          "data": {
            "text/plain": [
              "      Name   Age   GPA\n",
              "0    Alice    20   3.9\n",
              "1      Bob    22   3.2\n",
              "2  Charlie    19   2.8\n",
              "3    Diana    21   3.7"
            ],
            "text/html": [
              "\n",
              "  <div id=\"df-805a80b9-ec1d-490e-a362-171bff9f4788\" class=\"colab-df-container\">\n",
              "    <div>\n",
              "<style scoped>\n",
              "    .dataframe tbody tr th:only-of-type {\n",
              "        vertical-align: middle;\n",
              "    }\n",
              "\n",
              "    .dataframe tbody tr th {\n",
              "        vertical-align: top;\n",
              "    }\n",
              "\n",
              "    .dataframe thead th {\n",
              "        text-align: right;\n",
              "    }\n",
              "</style>\n",
              "<table border=\"1\" class=\"dataframe\">\n",
              "  <thead>\n",
              "    <tr style=\"text-align: right;\">\n",
              "      <th></th>\n",
              "      <th>Name</th>\n",
              "      <th>Age</th>\n",
              "      <th>GPA</th>\n",
              "    </tr>\n",
              "  </thead>\n",
              "  <tbody>\n",
              "    <tr>\n",
              "      <th>0</th>\n",
              "      <td>Alice</td>\n",
              "      <td>20</td>\n",
              "      <td>3.9</td>\n",
              "    </tr>\n",
              "    <tr>\n",
              "      <th>1</th>\n",
              "      <td>Bob</td>\n",
              "      <td>22</td>\n",
              "      <td>3.2</td>\n",
              "    </tr>\n",
              "    <tr>\n",
              "      <th>2</th>\n",
              "      <td>Charlie</td>\n",
              "      <td>19</td>\n",
              "      <td>2.8</td>\n",
              "    </tr>\n",
              "    <tr>\n",
              "      <th>3</th>\n",
              "      <td>Diana</td>\n",
              "      <td>21</td>\n",
              "      <td>3.7</td>\n",
              "    </tr>\n",
              "  </tbody>\n",
              "</table>\n",
              "</div>\n",
              "    <div class=\"colab-df-buttons\">\n",
              "\n",
              "  <div class=\"colab-df-container\">\n",
              "    <button class=\"colab-df-convert\" onclick=\"convertToInteractive('df-805a80b9-ec1d-490e-a362-171bff9f4788')\"\n",
              "            title=\"Convert this dataframe to an interactive table.\"\n",
              "            style=\"display:none;\">\n",
              "\n",
              "  <svg xmlns=\"http://www.w3.org/2000/svg\" height=\"24px\" viewBox=\"0 -960 960 960\">\n",
              "    <path d=\"M120-120v-720h720v720H120Zm60-500h600v-160H180v160Zm220 220h160v-160H400v160Zm0 220h160v-160H400v160ZM180-400h160v-160H180v160Zm440 0h160v-160H620v160ZM180-180h160v-160H180v160Zm440 0h160v-160H620v160Z\"/>\n",
              "  </svg>\n",
              "    </button>\n",
              "\n",
              "  <style>\n",
              "    .colab-df-container {\n",
              "      display:flex;\n",
              "      gap: 12px;\n",
              "    }\n",
              "\n",
              "    .colab-df-convert {\n",
              "      background-color: #E8F0FE;\n",
              "      border: none;\n",
              "      border-radius: 50%;\n",
              "      cursor: pointer;\n",
              "      display: none;\n",
              "      fill: #1967D2;\n",
              "      height: 32px;\n",
              "      padding: 0 0 0 0;\n",
              "      width: 32px;\n",
              "    }\n",
              "\n",
              "    .colab-df-convert:hover {\n",
              "      background-color: #E2EBFA;\n",
              "      box-shadow: 0px 1px 2px rgba(60, 64, 67, 0.3), 0px 1px 3px 1px rgba(60, 64, 67, 0.15);\n",
              "      fill: #174EA6;\n",
              "    }\n",
              "\n",
              "    .colab-df-buttons div {\n",
              "      margin-bottom: 4px;\n",
              "    }\n",
              "\n",
              "    [theme=dark] .colab-df-convert {\n",
              "      background-color: #3B4455;\n",
              "      fill: #D2E3FC;\n",
              "    }\n",
              "\n",
              "    [theme=dark] .colab-df-convert:hover {\n",
              "      background-color: #434B5C;\n",
              "      box-shadow: 0px 1px 3px 1px rgba(0, 0, 0, 0.15);\n",
              "      filter: drop-shadow(0px 1px 2px rgba(0, 0, 0, 0.3));\n",
              "      fill: #FFFFFF;\n",
              "    }\n",
              "  </style>\n",
              "\n",
              "    <script>\n",
              "      const buttonEl =\n",
              "        document.querySelector('#df-805a80b9-ec1d-490e-a362-171bff9f4788 button.colab-df-convert');\n",
              "      buttonEl.style.display =\n",
              "        google.colab.kernel.accessAllowed ? 'block' : 'none';\n",
              "\n",
              "      async function convertToInteractive(key) {\n",
              "        const element = document.querySelector('#df-805a80b9-ec1d-490e-a362-171bff9f4788');\n",
              "        const dataTable =\n",
              "          await google.colab.kernel.invokeFunction('convertToInteractive',\n",
              "                                                    [key], {});\n",
              "        if (!dataTable) return;\n",
              "\n",
              "        const docLinkHtml = 'Like what you see? Visit the ' +\n",
              "          '<a target=\"_blank\" href=https://colab.research.google.com/notebooks/data_table.ipynb>data table notebook</a>'\n",
              "          + ' to learn more about interactive tables.';\n",
              "        element.innerHTML = '';\n",
              "        dataTable['output_type'] = 'display_data';\n",
              "        await google.colab.output.renderOutput(dataTable, element);\n",
              "        const docLink = document.createElement('div');\n",
              "        docLink.innerHTML = docLinkHtml;\n",
              "        element.appendChild(docLink);\n",
              "      }\n",
              "    </script>\n",
              "  </div>\n",
              "\n",
              "\n",
              "    <div id=\"df-b2b17cb7-b2f2-4b6f-a6c6-64ab6008ef31\">\n",
              "      <button class=\"colab-df-quickchart\" onclick=\"quickchart('df-b2b17cb7-b2f2-4b6f-a6c6-64ab6008ef31')\"\n",
              "                title=\"Suggest charts\"\n",
              "                style=\"display:none;\">\n",
              "\n",
              "<svg xmlns=\"http://www.w3.org/2000/svg\" height=\"24px\"viewBox=\"0 0 24 24\"\n",
              "     width=\"24px\">\n",
              "    <g>\n",
              "        <path d=\"M19 3H5c-1.1 0-2 .9-2 2v14c0 1.1.9 2 2 2h14c1.1 0 2-.9 2-2V5c0-1.1-.9-2-2-2zM9 17H7v-7h2v7zm4 0h-2V7h2v10zm4 0h-2v-4h2v4z\"/>\n",
              "    </g>\n",
              "</svg>\n",
              "      </button>\n",
              "\n",
              "<style>\n",
              "  .colab-df-quickchart {\n",
              "      --bg-color: #E8F0FE;\n",
              "      --fill-color: #1967D2;\n",
              "      --hover-bg-color: #E2EBFA;\n",
              "      --hover-fill-color: #174EA6;\n",
              "      --disabled-fill-color: #AAA;\n",
              "      --disabled-bg-color: #DDD;\n",
              "  }\n",
              "\n",
              "  [theme=dark] .colab-df-quickchart {\n",
              "      --bg-color: #3B4455;\n",
              "      --fill-color: #D2E3FC;\n",
              "      --hover-bg-color: #434B5C;\n",
              "      --hover-fill-color: #FFFFFF;\n",
              "      --disabled-bg-color: #3B4455;\n",
              "      --disabled-fill-color: #666;\n",
              "  }\n",
              "\n",
              "  .colab-df-quickchart {\n",
              "    background-color: var(--bg-color);\n",
              "    border: none;\n",
              "    border-radius: 50%;\n",
              "    cursor: pointer;\n",
              "    display: none;\n",
              "    fill: var(--fill-color);\n",
              "    height: 32px;\n",
              "    padding: 0;\n",
              "    width: 32px;\n",
              "  }\n",
              "\n",
              "  .colab-df-quickchart:hover {\n",
              "    background-color: var(--hover-bg-color);\n",
              "    box-shadow: 0 1px 2px rgba(60, 64, 67, 0.3), 0 1px 3px 1px rgba(60, 64, 67, 0.15);\n",
              "    fill: var(--button-hover-fill-color);\n",
              "  }\n",
              "\n",
              "  .colab-df-quickchart-complete:disabled,\n",
              "  .colab-df-quickchart-complete:disabled:hover {\n",
              "    background-color: var(--disabled-bg-color);\n",
              "    fill: var(--disabled-fill-color);\n",
              "    box-shadow: none;\n",
              "  }\n",
              "\n",
              "  .colab-df-spinner {\n",
              "    border: 2px solid var(--fill-color);\n",
              "    border-color: transparent;\n",
              "    border-bottom-color: var(--fill-color);\n",
              "    animation:\n",
              "      spin 1s steps(1) infinite;\n",
              "  }\n",
              "\n",
              "  @keyframes spin {\n",
              "    0% {\n",
              "      border-color: transparent;\n",
              "      border-bottom-color: var(--fill-color);\n",
              "      border-left-color: var(--fill-color);\n",
              "    }\n",
              "    20% {\n",
              "      border-color: transparent;\n",
              "      border-left-color: var(--fill-color);\n",
              "      border-top-color: var(--fill-color);\n",
              "    }\n",
              "    30% {\n",
              "      border-color: transparent;\n",
              "      border-left-color: var(--fill-color);\n",
              "      border-top-color: var(--fill-color);\n",
              "      border-right-color: var(--fill-color);\n",
              "    }\n",
              "    40% {\n",
              "      border-color: transparent;\n",
              "      border-right-color: var(--fill-color);\n",
              "      border-top-color: var(--fill-color);\n",
              "    }\n",
              "    60% {\n",
              "      border-color: transparent;\n",
              "      border-right-color: var(--fill-color);\n",
              "    }\n",
              "    80% {\n",
              "      border-color: transparent;\n",
              "      border-right-color: var(--fill-color);\n",
              "      border-bottom-color: var(--fill-color);\n",
              "    }\n",
              "    90% {\n",
              "      border-color: transparent;\n",
              "      border-bottom-color: var(--fill-color);\n",
              "    }\n",
              "  }\n",
              "</style>\n",
              "\n",
              "      <script>\n",
              "        async function quickchart(key) {\n",
              "          const quickchartButtonEl =\n",
              "            document.querySelector('#' + key + ' button');\n",
              "          quickchartButtonEl.disabled = true;  // To prevent multiple clicks.\n",
              "          quickchartButtonEl.classList.add('colab-df-spinner');\n",
              "          try {\n",
              "            const charts = await google.colab.kernel.invokeFunction(\n",
              "                'suggestCharts', [key], {});\n",
              "          } catch (error) {\n",
              "            console.error('Error during call to suggestCharts:', error);\n",
              "          }\n",
              "          quickchartButtonEl.classList.remove('colab-df-spinner');\n",
              "          quickchartButtonEl.classList.add('colab-df-quickchart-complete');\n",
              "        }\n",
              "        (() => {\n",
              "          let quickchartButtonEl =\n",
              "            document.querySelector('#df-b2b17cb7-b2f2-4b6f-a6c6-64ab6008ef31 button');\n",
              "          quickchartButtonEl.style.display =\n",
              "            google.colab.kernel.accessAllowed ? 'block' : 'none';\n",
              "        })();\n",
              "      </script>\n",
              "    </div>\n",
              "\n",
              "    </div>\n",
              "  </div>\n"
            ],
            "application/vnd.google.colaboratory.intrinsic+json": {
              "type": "dataframe",
              "variable_name": "df",
              "summary": "{\n  \"name\": \"df\",\n  \"rows\": 4,\n  \"fields\": [\n    {\n      \"column\": \"Name\",\n      \"properties\": {\n        \"dtype\": \"string\",\n        \"num_unique_values\": 4,\n        \"samples\": [\n          \"Bob\",\n          \"Diana\",\n          \"Alice\"\n        ],\n        \"semantic_type\": \"\",\n        \"description\": \"\"\n      }\n    },\n    {\n      \"column\": \" Age\",\n      \"properties\": {\n        \"dtype\": \"number\",\n        \"std\": 1,\n        \"min\": 19,\n        \"max\": 22,\n        \"num_unique_values\": 4,\n        \"samples\": [\n          22,\n          21,\n          20\n        ],\n        \"semantic_type\": \"\",\n        \"description\": \"\"\n      }\n    },\n    {\n      \"column\": \" GPA\",\n      \"properties\": {\n        \"dtype\": \"number\",\n        \"std\": 0.496655480858378,\n        \"min\": 2.8,\n        \"max\": 3.9,\n        \"num_unique_values\": 4,\n        \"samples\": [\n          3.2,\n          3.7,\n          3.9\n        ],\n        \"semantic_type\": \"\",\n        \"description\": \"\"\n      }\n    }\n  ]\n}"
            }
          },
          "metadata": {},
          "execution_count": 5
        }
      ],
      "source": [
        "import pandas as pd\n",
        "\n",
        "with open('students.csv', 'w') as f:\n",
        "    f.write('Name, Age, GPA\\n')\n",
        "    f.write('Alice, 20, 3.9\\n')\n",
        "    f.write('Bob, 22, 3.2\\n')\n",
        "    f.write('Charlie, 19, 2.8\\n')\n",
        "    f.write('Diana, 21, 3.7\\n')\n",
        "\n",
        "df = pd.read_csv('students.csv')\n",
        "df.head()\n"
      ],
      "id": "8fZY_Uje2Y_U"
    },
    {
      "cell_type": "markdown",
      "metadata": {
        "id": "WKxMFOiG2Y_U"
      },
      "source": [
        "## Q6. Plotting\n",
        "Create a line plot of $y = x^2$ for $x$ values from 0 to 10."
      ],
      "id": "WKxMFOiG2Y_U"
    },
    {
      "cell_type": "code",
      "execution_count": 8,
      "metadata": {
        "id": "c8jH1_LE2Y_U",
        "outputId": "326f65fa-766c-45d3-a8f3-dcba9484fcce",
        "colab": {
          "base_uri": "https://localhost:8080/",
          "height": 472
        }
      },
      "outputs": [
        {
          "output_type": "display_data",
          "data": {
            "text/plain": [
              "<Figure size 640x480 with 1 Axes>"
            ],
            "image/png": "[encoded data removed]"
          },
          "metadata": {}
        }
      ],
      "source": [
        "import matplotlib.pyplot as plt\n",
        "import numpy as np\n",
        "\n",
        "# x values from 0 to 10\n",
        "x = np.linspace(0, 10, 100)\n",
        "y = x**2\n",
        "\n",
        "# Create line plot\n",
        "plt.plot(x, y,)\n",
        "\n",
        "# Add labels and title\n",
        "plt.xlabel(\"x\")\n",
        "plt.ylabel(\"y\")\n",
        "plt.title(\"Line Plot of y = x²\")\n",
        "plt.grid(True)\n",
        "plt.show()\n"
      ],
      "id": "c8jH1_LE2Y_U"
    },
    {
      "cell_type": "markdown",
      "metadata": {
        "id": "3Ih5Z7sJ2Y_U"
      },
      "source": [
        "## Q7. Shortcuts\n",
        "In Command mode, what keyboard shortcut deletes a cell?"
      ],
      "id": "3Ih5Z7sJ2Y_U"
    },
    {
      "cell_type": "markdown",
      "metadata": {
        "id": "m-9-gc872Y_U"
      },
      "source": [
        "*Your Answer:* D D\n"
      ],
      "id": "m-9-gc872Y_U"
    },
    {
      "cell_type": "markdown",
      "metadata": {
        "id": "MdTEj0AV2Y_U"
      },
      "source": [
        "## Q8. Help and Docs\n",
        "Use `?` to display the docstring for `len`. Show the result."
      ],
      "id": "MdTEj0AV2Y_U"
    },
    {
      "cell_type": "code",
      "execution_count": 9,
      "metadata": {
        "id": "BCU7EnKe2Y_U"
      },
      "outputs": [],
      "source": [
        "len?"
      ],
      "id": "BCU7EnKe2Y_U"
    },
    {
      "cell_type": "markdown",
      "source": [
        "* Signature: len(obj, /)\n",
        "* Docstring: Return the number of items in a container.\n",
        "* Type:      builtin_function_or_method\n",
        "\n",
        "\n",
        "\n"
      ],
      "metadata": {
        "id": "AkQN2XX_6HhL"
      },
      "id": "AkQN2XX_6HhL"
    },
    {
      "cell_type": "markdown",
      "metadata": {
        "id": "nLTYxMG12Y_U"
      },
      "source": [
        "## Q9. Timing\n",
        "Compare the runtime of squaring numbers using a Python loop vs. NumPy. Use `%timeit` for each."
      ],
      "id": "nLTYxMG12Y_U"
    },
    {
      "cell_type": "code",
      "execution_count": 10,
      "metadata": {
        "id": "yEMKFI8u2Y_U",
        "outputId": "bf81a23d-1ac3-4e19-b626-70092f95f3d4",
        "colab": {
          "base_uri": "https://localhost:8080/"
        }
      },
      "outputs": [
        {
          "output_type": "stream",
          "name": "stdout",
          "text": [
            "94.8 ms ± 723 µs per loop (mean ± std. dev. of 7 runs, 10 loops each)\n",
            "1.57 ms ± 184 µs per loop (mean ± std. dev. of 7 runs, 1000 loops each)\n"
          ]
        }
      ],
      "source": [
        "import numpy as np\n",
        "\n",
        "# Python loop\n",
        "%timeit [i**2 for i in range(1_000_000)]\n",
        "\n",
        "# NumPy\n",
        "%timeit np.arange(1_000_000)**2\n"
      ],
      "id": "yEMKFI8u2Y_U"
    },
    {
      "cell_type": "markdown",
      "metadata": {
        "id": "LQQuVvFA2Y_U"
      },
      "source": [
        "## Q10. Reflection\n",
        "Why is it useful to mix Markdown and code in Jupyter notebooks? Write 2–3 sentences."
      ],
      "id": "LQQuVvFA2Y_U"
    },
    {
      "cell_type": "markdown",
      "metadata": {
        "id": "RJHYBorO2Y_V"
      },
      "source": [
        "*Your Answer:* Markdown makes it easy to write comments about your code. It can actually go in detail about your code while your code displays actual logic. It makes notebooks easier to read, share and understand.\n"
      ],
      "id": "RJHYBorO2Y_V"
    }
  ],
  "metadata": {
    "kernelspec": {
      "display_name": "Python 3",
      "language": "python",
      "name": "python3"
    },
    "language_info": {
      "name": "python",
      "version": "3.x"
    },
    "colab": {
      "provenance": [],
      "include_colab_link": true
    }
  },
  "nbformat": 4,
  "nbformat_minor": 5
}