{
  "cells": [
    {
      "cell_type": "markdown",
      "metadata": {
        "id": "view-in-github",
        "colab_type": "text"
      },
      "source": [
        "<a href=\"https://colab.research.google.com/github/NicoleVigilant/NicoleVigilant-DataScience-2025/blob/main/Completed/05-Foundations/01-magic_commands.ipynb\" target=\"_parent\"><img src=\"https://colab.research.google.com/assets/colab-badge.svg\" alt=\"Open In Colab\"/></a>"
      ]
    },
    {
      "cell_type": "markdown",
      "metadata": {
        "id": "BA-MUjMNXN5m"
      },
      "source": [
        "# 🧙 Magic Commands Demo Notebook\n",
        "\n",
        "This notebook introduces some of the most useful **IPython magic commands** in Jupyter.  \n",
        "Run each cell and see what happens!"
      ],
      "id": "BA-MUjMNXN5m"
    },
    {
      "cell_type": "markdown",
      "metadata": {
        "id": "i_uFhJICXN5o"
      },
      "source": [
        "## 1. Timing and Performance"
      ],
      "id": "i_uFhJICXN5o"
    },
    {
      "cell_type": "code",
      "execution_count": 32,
      "metadata": {
        "colab": {
          "base_uri": "https://localhost:8080/"
        },
        "id": "oeL6efhPXN5o",
        "outputId": "a941c169-6d6b-4136-94b2-d6fb740f1fd5"
      },
      "outputs": [
        {
          "output_type": "stream",
          "name": "stdout",
          "text": [
            "CPU times: user 30.2 ms, sys: 10 µs, total: 30.2 ms\n",
            "Wall time: 29.8 ms\n"
          ]
        },
        {
          "output_type": "execute_result",
          "data": {
            "text/plain": [
              "499999500000"
            ]
          },
          "metadata": {},
          "execution_count": 32
        }
      ],
      "source": [
        "%time sum(range(1_000_000))"
      ],
      "id": "oeL6efhPXN5o"
    },
    {
      "cell_type": "code",
      "execution_count": 33,
      "metadata": {
        "colab": {
          "base_uri": "https://localhost:8080/"
        },
        "id": "1JtxVr7OXN5p",
        "outputId": "6a47b9fb-5637-4367-cf59-7047278480b7"
      },
      "outputs": [
        {
          "output_type": "stream",
          "name": "stdout",
          "text": [
            "25.1 ms ± 868 µs per loop (mean ± std. dev. of 7 runs, 10 loops each)\n"
          ]
        }
      ],
      "source": [
        "%timeit sum(range(1_000_000))"
      ],
      "id": "1JtxVr7OXN5p"
    },
    {
      "cell_type": "code",
      "execution_count": 34,
      "metadata": {
        "colab": {
          "base_uri": "https://localhost:8080/"
        },
        "id": "pT0f2Uv6XN5p",
        "outputId": "a59513f7-312d-4b42-91a5-3db7eb4df1c2"
      },
      "outputs": [
        {
          "output_type": "stream",
          "name": "stdout",
          "text": [
            "CPU times: user 119 ms, sys: 0 ns, total: 119 ms\n",
            "Wall time: 119 ms\n"
          ]
        }
      ],
      "source": [
        "%%time\n",
        "total = 0\n",
        "for i in range(1_000_000):\n",
        "    total += i"
      ],
      "id": "pT0f2Uv6XN5p"
    },
    {
      "cell_type": "markdown",
      "metadata": {
        "id": "ZLcRulBTXN5p"
      },
      "source": [
        "## 2. Working with Files"
      ],
      "id": "ZLcRulBTXN5p"
    },
    {
      "cell_type": "code",
      "execution_count": 35,
      "metadata": {
        "colab": {
          "base_uri": "https://localhost:8080/",
          "height": 36
        },
        "id": "64_FPNJjXN5p",
        "outputId": "2674a5fc-79d5-4533-998b-c5f0a18f34d6"
      },
      "outputs": [
        {
          "output_type": "execute_result",
          "data": {
            "text/plain": [
              "'/'"
            ],
            "application/vnd.google.colaboratory.intrinsic+json": {
              "type": "string"
            }
          },
          "metadata": {},
          "execution_count": 35
        }
      ],
      "source": [
        "%pwd"
      ],
      "id": "64_FPNJjXN5p"
    },
    {
      "cell_type": "code",
      "execution_count": 42,
      "metadata": {
        "colab": {
          "base_uri": "https://localhost:8080/"
        },
        "id": "LzqA-ZbwXN5p",
        "outputId": "368b302c-70ff-4e06-9511-1ad3dd5b19ea"
      },
      "outputs": [
        {
          "output_type": "stream",
          "name": "stdout",
          "text": [
            "\u001b[0m\u001b[01;36mbin\u001b[0m@                        \u001b[01;34mhome\u001b[0m/    NGC-DL-CONTAINER-LICENSE  \u001b[01;34msrv\u001b[0m/\n",
            "\u001b[01;34mboot\u001b[0m/                       \u001b[01;34mkaggle\u001b[0m/  \u001b[01;34mopt\u001b[0m/                      \u001b[01;34msys\u001b[0m/\n",
            "\u001b[01;34mcontent\u001b[0m/                    \u001b[01;36mlib\u001b[0m@     \u001b[01;34mproc\u001b[0m/                     \u001b[30;42mtmp\u001b[0m/\n",
            "cuda-keyring_1.1-1_all.deb  \u001b[01;36mlib32\u001b[0m@   \u001b[01;34mpython-apt\u001b[0m/               \u001b[01;34mtools\u001b[0m/\n",
            "\u001b[01;34mdatalab\u001b[0m/                    \u001b[01;36mlib64\u001b[0m@   \u001b[01;32mpython-apt.tar.xz\u001b[0m*        \u001b[01;34musr\u001b[0m/\n",
            "\u001b[01;34mdev\u001b[0m/                        \u001b[01;36mlibx32\u001b[0m@  \u001b[01;34mroot\u001b[0m/                     \u001b[01;34mvar\u001b[0m/\n",
            "\u001b[01;34metc\u001b[0m/                        \u001b[01;34mmedia\u001b[0m/   \u001b[01;34mrun\u001b[0m/\n",
            "hello.py                    \u001b[01;34mmnt\u001b[0m/     \u001b[01;36msbin\u001b[0m@\n"
          ]
        }
      ],
      "source": [
        "%ls"
      ],
      "id": "LzqA-ZbwXN5p"
    },
    {
      "cell_type": "code",
      "execution_count": 43,
      "metadata": {
        "colab": {
          "base_uri": "https://localhost:8080/",
          "height": 53
        },
        "id": "f4l83V5UXN5q",
        "outputId": "c3dcf8c2-266b-4556-b85f-3e498eb70a5c"
      },
      "outputs": [
        {
          "output_type": "stream",
          "name": "stdout",
          "text": [
            "/\n"
          ]
        },
        {
          "output_type": "execute_result",
          "data": {
            "text/plain": [
              "'/'"
            ],
            "application/vnd.google.colaboratory.intrinsic+json": {
              "type": "string"
            }
          },
          "metadata": {},
          "execution_count": 43
        }
      ],
      "source": [
        "%cd ..\n",
        "%pwd"
      ],
      "id": "f4l83V5UXN5q"
    },
    {
      "cell_type": "markdown",
      "metadata": {
        "id": "7icY_pTcXN5q"
      },
      "source": [
        "## 3. Variables in Memory"
      ],
      "id": "7icY_pTcXN5q"
    },
    {
      "cell_type": "code",
      "execution_count": 44,
      "metadata": {
        "colab": {
          "base_uri": "https://localhost:8080/"
        },
        "id": "jY8jGf_zXN5q",
        "outputId": "bc593780-e349-472f-bb72-87fe7c7d1d77"
      },
      "outputs": [
        {
          "output_type": "stream",
          "name": "stdout",
          "text": [
            "a\t b\t c\t cap\t i\t total\t \n"
          ]
        }
      ],
      "source": [
        "a = 42\n",
        "b = [1, 2, 3]\n",
        "c = {\"name\": \"Graylian\"}\n",
        "\n",
        "%who"
      ],
      "id": "jY8jGf_zXN5q"
    },
    {
      "cell_type": "code",
      "execution_count": 39,
      "metadata": {
        "colab": {
          "base_uri": "https://localhost:8080/"
        },
        "id": "0quK-JPsXN5q",
        "outputId": "7658d567-e15d-4840-cf2d-d3d8cbace29c"
      },
      "outputs": [
        {
          "output_type": "stream",
          "name": "stdout",
          "text": [
            "Variable   Type          Data/Info\n",
            "----------------------------------\n",
            "a          int           42\n",
            "b          list          n=3\n",
            "c          dict          n=1\n",
            "cap        CapturedIO    This will not display right away\\n\n",
            "i          int           999999\n",
            "total      int           499999500000\n"
          ]
        }
      ],
      "source": [
        "%whos"
      ],
      "id": "0quK-JPsXN5q"
    },
    {
      "cell_type": "code",
      "execution_count": 45,
      "metadata": {
        "id": "0CxEbNOGXN5q"
      },
      "outputs": [],
      "source": [
        "# %reset"
      ],
      "id": "0CxEbNOGXN5q"
    },
    {
      "cell_type": "markdown",
      "metadata": {
        "id": "QLu-WLjqXN5q"
      },
      "source": [
        "## 4. Debugging and Introspection"
      ],
      "id": "QLu-WLjqXN5q"
    },
    {
      "cell_type": "code",
      "execution_count": 41,
      "metadata": {
        "colab": {
          "base_uri": "https://localhost:8080/",
          "height": 141
        },
        "id": "V4a1c0zLXN5q",
        "outputId": "48b287a7-6d6a-40f8-a3db-a6dfc020cc99"
      },
      "outputs": [
        {
          "output_type": "error",
          "ename": "ZeroDivisionError",
          "evalue": "division by zero",
          "traceback": [
            "\u001b[0;31m---------------------------------------------------------------------------\u001b[0m",
            "\u001b[0;31mZeroDivisionError\u001b[0m                         Traceback (most recent call last)",
            "\u001b[0;32m/tmp/ipython-input-1455669704.py\u001b[0m in \u001b[0;36m<cell line: 0>\u001b[0;34m()\u001b[0m\n\u001b[0;32m----> 1\u001b[0;31m \u001b[0;36m1\u001b[0m \u001b[0;34m/\u001b[0m \u001b[0;36m0\u001b[0m\u001b[0;34m\u001b[0m\u001b[0;34m\u001b[0m\u001b[0m\n\u001b[0m",
            "\u001b[0;31mZeroDivisionError\u001b[0m: division by zero"
          ]
        }
      ],
      "source": [
        "1 / 0"
      ],
      "id": "V4a1c0zLXN5q"
    },
    {
      "cell_type": "code",
      "execution_count": 46,
      "metadata": {
        "colab": {
          "base_uri": "https://localhost:8080/"
        },
        "id": "HK8PYLW-XN5r",
        "outputId": "4cca1421-5c4b-43f9-bab0-2182d9b01ffc"
      },
      "outputs": [
        {
          "name": "stdout",
          "output_type": "stream",
          "text": [
            "> \u001b[0;32m/tmp/ipython-input-1455669704.py\u001b[0m(1)\u001b[0;36m<cell line: 0>\u001b[0;34m()\u001b[0m\n",
            "\u001b[0;32m----> 1 \u001b[0;31m\u001b[0;36m1\u001b[0m \u001b[0;34m/\u001b[0m \u001b[0;36m0\u001b[0m\u001b[0;34m\u001b[0m\u001b[0;34m\u001b[0m\u001b[0m\n",
            "\u001b[0m\n",
            "ipdb> exit\n"
          ]
        }
      ],
      "source": [
        "%debug"
      ],
      "id": "HK8PYLW-XN5r"
    },
    {
      "cell_type": "markdown",
      "metadata": {
        "id": "vTUw_GuqXN5r"
      },
      "source": [
        "## 5. Writing and Running Files"
      ],
      "id": "vTUw_GuqXN5r"
    },
    {
      "cell_type": "code",
      "execution_count": 47,
      "metadata": {
        "colab": {
          "base_uri": "https://localhost:8080/"
        },
        "id": "id7JzDe9XN5r",
        "outputId": "da85ff57-7957-479e-e762-a9b657207771"
      },
      "outputs": [
        {
          "output_type": "stream",
          "name": "stdout",
          "text": [
            "Overwriting hello.py\n"
          ]
        }
      ],
      "source": [
        "%%writefile hello.py\n",
        "print(\"Hello from a file!\")"
      ],
      "id": "id7JzDe9XN5r"
    },
    {
      "cell_type": "code",
      "execution_count": 48,
      "metadata": {
        "colab": {
          "base_uri": "https://localhost:8080/"
        },
        "id": "ZrMSj-pEXN5r",
        "outputId": "c4bbbe9a-d908-4859-9181-d7b39eb69188"
      },
      "outputs": [
        {
          "output_type": "stream",
          "name": "stdout",
          "text": [
            "Hello from a file!\n"
          ]
        }
      ],
      "source": [
        "%run hello.py"
      ],
      "id": "ZrMSj-pEXN5r"
    },
    {
      "cell_type": "markdown",
      "metadata": {
        "id": "sbMIZEfuXN5r"
      },
      "source": [
        "## 6. Output and Formatting"
      ],
      "id": "sbMIZEfuXN5r"
    },
    {
      "cell_type": "code",
      "execution_count": 49,
      "metadata": {
        "id": "5xTXhNIfXN5r"
      },
      "outputs": [],
      "source": [
        "%%capture cap\n",
        "print(\"This will not display right away\")\n",
        "\n"
      ],
      "id": "5xTXhNIfXN5r"
    },
    {
      "cell_type": "code",
      "source": [
        "cap.show()"
      ],
      "metadata": {
        "id": "o-pJajLlbS7n",
        "outputId": "219c13c7-af91-4d2f-97ea-d5ef478b477f",
        "colab": {
          "base_uri": "https://localhost:8080/"
        }
      },
      "id": "o-pJajLlbS7n",
      "execution_count": 50,
      "outputs": [
        {
          "output_type": "stream",
          "name": "stdout",
          "text": [
            "This will not display right away\n"
          ]
        }
      ]
    },
    {
      "cell_type": "code",
      "execution_count": 51,
      "metadata": {
        "colab": {
          "base_uri": "https://localhost:8080/",
          "height": 74
        },
        "id": "5FK9oERkXN5r",
        "outputId": "cea079a0-4bad-4b2f-c127-a031d3401000"
      },
      "outputs": [
        {
          "output_type": "display_data",
          "data": {
            "text/plain": [
              "<IPython.core.display.HTML object>"
            ],
            "text/html": [
              "<h1 style=\"color: maroon\">Magics are Magical ✨</h1>\n"
            ]
          },
          "metadata": {}
        }
      ],
      "source": [
        "%%html\n",
        "<h1 style=\"color: maroon\">Magics are Magical ✨</h1>"
      ],
      "id": "5FK9oERkXN5r"
    },
    {
      "cell_type": "code",
      "execution_count": 52,
      "metadata": {
        "colab": {
          "base_uri": "https://localhost:8080/",
          "height": 100
        },
        "id": "g8orWWN3XN5r",
        "outputId": "b7e7579e-afba-446c-be73-f3be7281645a"
      },
      "outputs": [
        {
          "output_type": "display_data",
          "data": {
            "text/plain": [
              "<IPython.core.display.Markdown object>"
            ],
            "text/markdown": "# This is a Markdown cell inside code!\n**Bold text** and *italic* still work.\n"
          },
          "metadata": {}
        }
      ],
      "source": [
        "%%markdown\n",
        "# This is a Markdown cell inside code!\n",
        "**Bold text** and *italic* still work."
      ],
      "id": "g8orWWN3XN5r"
    },
    {
      "cell_type": "markdown",
      "metadata": {
        "id": "ZcVPjcBJXN5s"
      },
      "source": [
        "## 7. Discover More"
      ],
      "id": "ZcVPjcBJXN5s"
    },
    {
      "cell_type": "code",
      "execution_count": 53,
      "metadata": {
        "colab": {
          "base_uri": "https://localhost:8080/",
          "height": 1000
        },
        "id": "ex-Q_HvSXN5s",
        "outputId": "7b0a2fce-422d-4f52-8c55-9e7c32d248cc"
      },
      "outputs": [
        {
          "output_type": "execute_result",
          "data": {
            "text/plain": [
              "Available line magics:\n",
              "%alias  %alias_magic  %autoawait  %autocall  %automagic  %autosave  %bookmark  %cat  %cd  %clear  %colors  %conda  %config  %connect_info  %cp  %debug  %dhist  %dirs  %doctest_mode  %ed  %edit  %env  %gui  %hist  %history  %killbgscripts  %ldir  %less  %lf  %lk  %ll  %load  %load_ext  %loadpy  %logoff  %logon  %logstart  %logstate  %logstop  %ls  %lsmagic  %lx  %macro  %magic  %man  %matplotlib  %mkdir  %more  %mv  %notebook  %page  %pastebin  %pdb  %pdef  %pdoc  %pfile  %pinfo  %pinfo2  %pip  %popd  %pprint  %precision  %prun  %psearch  %psource  %pushd  %pwd  %pycat  %pylab  %qtconsole  %quickref  %recall  %rehashx  %reload_ext  %rep  %rerun  %reset  %reset_selective  %rm  %rmdir  %run  %save  %sc  %set_env  %shell  %store  %sx  %system  %tb  %tensorflow_version  %time  %timeit  %unalias  %unload_ext  %who  %who_ls  %whos  %xdel  %xmode\n",
              "\n",
              "Available cell magics:\n",
              "%%!  %%HTML  %%SVG  %%bash  %%bigquery  %%bqsql  %%capture  %%debug  %%file  %%html  %%javascript  %%js  %%latex  %%markdown  %%perl  %%prun  %%pypy  %%python  %%python2  %%python3  %%ruby  %%script  %%sh  %%shell  %%spanner_graph  %%svg  %%sx  %%system  %%time  %%timeit  %%writefile\n",
              "\n",
              "Automagic is ON, % prefix IS NOT needed for line magics."
            ],
            "application/json": {
              "line": {
                "automagic": "AutoMagics",
                "autocall": "AutoMagics",
                "alias_magic": "BasicMagics",
                "lsmagic": "BasicMagics",
                "magic": "BasicMagics",
                "page": "BasicMagics",
                "pprint": "BasicMagics",
                "colors": "BasicMagics",
                "xmode": "BasicMagics",
                "quickref": "BasicMagics",
                "doctest_mode": "BasicMagics",
                "gui": "BasicMagics",
                "precision": "BasicMagics",
                "notebook": "BasicMagics",
                "save": "CodeMagics",
                "pastebin": "CodeMagics",
                "loadpy": "CodeMagics",
                "load": "CodeMagics",
                "edit": "KernelMagics",
                "config": "ConfigMagics",
                "prun": "ExecutionMagics",
                "pdb": "ExecutionMagics",
                "debug": "ExecutionMagics",
                "tb": "ExecutionMagics",
                "run": "ExecutionMagics",
                "timeit": "ExecutionMagics",
                "time": "ExecutionMagics",
                "macro": "ExecutionMagics",
                "load_ext": "ExtensionMagics",
                "unload_ext": "ExtensionMagics",
                "reload_ext": "ExtensionMagics",
                "history": "HistoryMagics",
                "recall": "HistoryMagics",
                "rerun": "HistoryMagics",
                "logstart": "LoggingMagics",
                "logstop": "LoggingMagics",
                "logoff": "LoggingMagics",
                "logon": "LoggingMagics",
                "logstate": "LoggingMagics",
                "pinfo": "NamespaceMagics",
                "pinfo2": "NamespaceMagics",
                "pdef": "NamespaceMagics",
                "pdoc": "NamespaceMagics",
                "psource": "NamespaceMagics",
                "pfile": "NamespaceMagics",
                "psearch": "NamespaceMagics",
                "who_ls": "NamespaceMagics",
                "who": "NamespaceMagics",
                "whos": "NamespaceMagics",
                "reset": "NamespaceMagics",
                "reset_selective": "NamespaceMagics",
                "xdel": "NamespaceMagics",
                "alias": "OSMagics",
                "unalias": "OSMagics",
                "rehashx": "OSMagics",
                "pwd": "OSMagics",
                "cd": "OSMagics",
                "env": "OSMagics",
                "set_env": "OSMagics",
                "pushd": "OSMagics",
                "popd": "OSMagics",
                "dirs": "OSMagics",
                "dhist": "OSMagics",
                "sc": "OSMagics",
                "sx": "OSMagics",
                "system": "OSMagics",
                "bookmark": "OSMagics",
                "pycat": "OSMagics",
                "pip": "Other",
                "conda": "PackagingMagics",
                "matplotlib": "PylabMagics",
                "pylab": "PylabMagics",
                "killbgscripts": "ScriptMagics",
                "autoawait": "AsyncMagics",
                "ed": "Other",
                "hist": "Other",
                "rep": "Other",
                "clear": "KernelMagics",
                "less": "KernelMagics",
                "more": "KernelMagics",
                "man": "KernelMagics",
                "connect_info": "KernelMagics",
                "qtconsole": "KernelMagics",
                "autosave": "KernelMagics",
                "mkdir": "Other",
                "rmdir": "Other",
                "mv": "Other",
                "rm": "Other",
                "cp": "Other",
                "cat": "Other",
                "ls": "Other",
                "ll": "Other",
                "lf": "Other",
                "lk": "Other",
                "ldir": "Other",
                "lx": "Other",
                "store": "StoreMagics",
                "shell": "Other",
                "tensorflow_version": "Other"
              },
              "cell": {
                "js": "DisplayMagics",
                "javascript": "DisplayMagics",
                "latex": "DisplayMagics",
                "svg": "DisplayMagics",
                "html": "DisplayMagics",
                "markdown": "DisplayMagics",
                "prun": "ExecutionMagics",
                "debug": "ExecutionMagics",
                "timeit": "ExecutionMagics",
                "time": "ExecutionMagics",
                "capture": "ExecutionMagics",
                "sx": "OSMagics",
                "system": "OSMagics",
                "!": "OSMagics",
                "writefile": "OSMagics",
                "script": "ScriptMagics",
                "sh": "Other",
                "bash": "Other",
                "perl": "Other",
                "ruby": "Other",
                "python": "Other",
                "python2": "Other",
                "python3": "Other",
                "pypy": "Other",
                "SVG": "Other",
                "HTML": "Other",
                "file": "Other",
                "bigquery": "Other",
                "spanner_graph": "NetworkVisualizationMagics",
                "shell": "Other",
                "bqsql": "Other"
              }
            }
          },
          "metadata": {},
          "execution_count": 53
        }
      ],
      "source": [
        "%lsmagic"
      ],
      "id": "ex-Q_HvSXN5s"
    },
    {
      "cell_type": "code",
      "execution_count": 54,
      "metadata": {
        "id": "lw1lDX44XN5s"
      },
      "outputs": [],
      "source": [
        "%timeit?"
      ],
      "id": "lw1lDX44XN5s"
    },
    {
      "cell_type": "code",
      "source": [
        "%timeit [x**2 for x in range(1000)]\n",
        "%timeit (x**2 for x in range(1000))"
      ],
      "metadata": {
        "id": "fFInDEy1ZLNs",
        "outputId": "3376f525-d8bd-43f8-aa17-28bd0d7f486b",
        "colab": {
          "base_uri": "https://localhost:8080/"
        }
      },
      "id": "fFInDEy1ZLNs",
      "execution_count": 55,
      "outputs": [
        {
          "output_type": "stream",
          "name": "stdout",
          "text": [
            "70.1 µs ± 1.27 µs per loop (mean ± std. dev. of 7 runs, 10000 loops each)\n",
            "278 ns ± 7.7 ns per loop (mean ± std. dev. of 7 runs, 1000000 loops each)\n"
          ]
        }
      ]
    },
    {
      "cell_type": "code",
      "source": [
        "a = 42\n",
        "b = 'hello'\n",
        "c = [1, 2, 3]\n",
        "\n",
        "%whos"
      ],
      "metadata": {
        "id": "vepMCDVXZwnA",
        "outputId": "e75d088d-0610-4818-dd2c-fc9277408a42",
        "colab": {
          "base_uri": "https://localhost:8080/"
        }
      },
      "id": "vepMCDVXZwnA",
      "execution_count": 56,
      "outputs": [
        {
          "output_type": "stream",
          "name": "stdout",
          "text": [
            "Variable   Type          Data/Info\n",
            "----------------------------------\n",
            "a          int           42\n",
            "b          str           hello\n",
            "c          list          n=3\n",
            "cap        CapturedIO    This will not display right away\\n\n",
            "i          int           999999\n",
            "total      int           499999500000\n"
          ]
        }
      ]
    },
    {
      "cell_type": "code",
      "source": [
        "%%html\n",
        "<h2 style=\"color: pink;\" > Data Science Is Cool🌟</h2>"
      ],
      "metadata": {
        "id": "XNEuKvdJZ-oy",
        "outputId": "cf85eb9d-279c-44af-b51a-961ef2e8328e",
        "colab": {
          "base_uri": "https://localhost:8080/",
          "height": 64
        }
      },
      "id": "XNEuKvdJZ-oy",
      "execution_count": 57,
      "outputs": [
        {
          "output_type": "display_data",
          "data": {
            "text/plain": [
              "<IPython.core.display.HTML object>"
            ],
            "text/html": [
              "<h2 style=\"color: pink;\" > Data Science Is Cool🌟</h2>\n"
            ]
          },
          "metadata": {}
        }
      ]
    },
    {
      "cell_type": "markdown",
      "metadata": {
        "id": "MvrYOwGfXN5s"
      },
      "source": [
        "✅ **Try It Yourself**:  \n",
        "- Use `%timeit` to compare a list comprehension `[x**2 for x in range(1000)]` vs a generator `(x**2 for x in range(1000))`.  \n",
        "- Use `%whos` after defining some variables to see their types.  \n",
        "- Use `%%html` to make your own banner."
      ],
      "id": "MvrYOwGfXN5s"
    }
  ],
  "metadata": {
    "kernelspec": {
      "display_name": "env",
      "language": "python",
      "name": "python3"
    },
    "language_info": {
      "codemirror_mode": {
        "name": "ipython",
        "version": 3
      },
      "file_extension": ".py",
      "mimetype": "text/x-python",
      "name": "python",
      "nbconvert_exporter": "python",
      "pygments_lexer": "ipython3",
      "version": "3.13.7"
    },
    "colab": {
      "provenance": [],
      "include_colab_link": true
    }
  },
  "nbformat": 4,
  "nbformat_minor": 5
}