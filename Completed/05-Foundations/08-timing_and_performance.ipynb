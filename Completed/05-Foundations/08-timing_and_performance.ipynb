{
  "cells": [
    {
      "cell_type": "markdown",
      "metadata": {
        "id": "view-in-github",
        "colab_type": "text"
      },
      "source": [
        "<a href=\"https://colab.research.google.com/github/NicoleVigilant/NicoleVigilant-DataScience-2025/blob/main/Completed/05-Foundations/08-timing_and_performance.ipynb\" target=\"_parent\"><img src=\"https://colab.research.google.com/assets/colab-badge.svg\" alt=\"Open In Colab\"/></a>"
      ]
    },
    {
      "cell_type": "markdown",
      "metadata": {
        "id": "gLxGre-IqtGU"
      },
      "source": [
        "# ⏱️ 08 - Timing and Performance\n",
        "\n",
        "In data science, performance matters. Some code runs fast, some slow.  \n",
        "Jupyter/IPython gives us tools to measure runtime easily.\n",
        "\n",
        "In this notebook you will learn:\n",
        "- `%time` and `%timeit` for single expressions\n",
        "- `%%time` and `%%timeit` for entire cells\n",
        "- Comparing loops, list comprehensions, and NumPy\n",
        "- Why performance awareness is important\n"
      ],
      "id": "gLxGre-IqtGU"
    },
    {
      "cell_type": "markdown",
      "metadata": {
        "id": "0CnUL6AZqtGW"
      },
      "source": [
        "## 1. `%time`"
      ],
      "id": "0CnUL6AZqtGW"
    },
    {
      "cell_type": "code",
      "execution_count": 1,
      "metadata": {
        "id": "p25H_7f-qtGW",
        "outputId": "526fb420-db0b-41a6-9917-a3e2b3212d0e",
        "colab": {
          "base_uri": "https://localhost:8080/"
        }
      },
      "outputs": [
        {
          "output_type": "stream",
          "name": "stdout",
          "text": [
            "CPU times: user 40.7 ms, sys: 94 µs, total: 40.8 ms\n",
            "Wall time: 40.5 ms\n"
          ]
        },
        {
          "output_type": "execute_result",
          "data": {
            "text/plain": [
              "499999500000"
            ]
          },
          "metadata": {},
          "execution_count": 1
        }
      ],
      "source": [
        "%time sum(range(1_000_000))"
      ],
      "id": "p25H_7f-qtGW"
    },
    {
      "cell_type": "markdown",
      "metadata": {
        "id": "Mnms8pEuqtGY"
      },
      "source": [
        "✅ **Your Turn**: Use `%time` to measure how long it takes to sort a list of 1 million random numbers."
      ],
      "id": "Mnms8pEuqtGY"
    },
    {
      "cell_type": "code",
      "source": [
        "import random\n",
        "myList = [random.randint(0, 1000000) for _ in range(1_000_000)]\n",
        "#myList\n",
        "%time myList.sort()"
      ],
      "metadata": {
        "id": "tyLEyXEOrx7V",
        "outputId": "72d8f9a4-3d83-467b-f9e7-3f976bc301d8",
        "colab": {
          "base_uri": "https://localhost:8080/"
        }
      },
      "id": "tyLEyXEOrx7V",
      "execution_count": 3,
      "outputs": [
        {
          "output_type": "stream",
          "name": "stdout",
          "text": [
            "CPU times: user 423 ms, sys: 2.85 ms, total: 426 ms\n",
            "Wall time: 427 ms\n"
          ]
        }
      ]
    },
    {
      "cell_type": "markdown",
      "metadata": {
        "id": "UN7fMQhQqtGY"
      },
      "source": [
        "## 2. `%timeit`"
      ],
      "id": "UN7fMQhQqtGY"
    },
    {
      "cell_type": "code",
      "execution_count": 4,
      "metadata": {
        "id": "PhXSRJ7oqtGY",
        "outputId": "d171469b-3027-4d5c-bc8d-9d61534a3b75",
        "colab": {
          "base_uri": "https://localhost:8080/"
        }
      },
      "outputs": [
        {
          "output_type": "stream",
          "name": "stdout",
          "text": [
            "57.4 µs ± 811 ns per loop (mean ± std. dev. of 7 runs, 10000 loops each)\n"
          ]
        }
      ],
      "source": [
        "numbers = list(range(1_000))\n",
        "%timeit [x**2 for x in numbers]"
      ],
      "id": "PhXSRJ7oqtGY"
    },
    {
      "cell_type": "markdown",
      "metadata": {
        "id": "Hgug3UZBqtGY"
      },
      "source": [
        "✅ **Your Turn**: Compare `%timeit` results for a list comprehension vs. a `for` loop that builds the same list."
      ],
      "id": "Hgug3UZBqtGY"
    },
    {
      "cell_type": "code",
      "source": [
        "%timeit [x for x in range(1_000_000)]\n",
        "\n",
        "%timeit\n",
        "nums = []\n",
        "for x in range(1_000_000):\n",
        "    nums.append(x)\n",
        "\n"
      ],
      "metadata": {
        "id": "zPHaRNZ5tMR-",
        "outputId": "5bd7204b-6a72-4539-de9c-eec7d470f85d",
        "colab": {
          "base_uri": "https://localhost:8080/"
        }
      },
      "id": "zPHaRNZ5tMR-",
      "execution_count": 5,
      "outputs": [
        {
          "output_type": "stream",
          "name": "stdout",
          "text": [
            "49 ms ± 816 µs per loop (mean ± std. dev. of 7 runs, 10 loops each)\n"
          ]
        }
      ]
    },
    {
      "cell_type": "markdown",
      "metadata": {
        "id": "DWm7FuYDqtGZ"
      },
      "source": [
        "## 3. `%%time` for a Whole Cell"
      ],
      "id": "DWm7FuYDqtGZ"
    },
    {
      "cell_type": "code",
      "execution_count": 6,
      "metadata": {
        "id": "ONPSbXKHqtGZ",
        "outputId": "212f3f3b-2b76-404e-ead7-45ac71b8aa3f",
        "colab": {
          "base_uri": "https://localhost:8080/"
        }
      },
      "outputs": [
        {
          "output_type": "stream",
          "name": "stdout",
          "text": [
            "63.4 ms ± 18.1 ms per loop (mean ± std. dev. of 7 runs, 10 loops each)\n"
          ]
        }
      ],
      "source": [
        "%%timeit\n",
        "total = 0\n",
        "for i in range(1_000_000):\n",
        "    total += i\n",
        "total"
      ],
      "id": "ONPSbXKHqtGZ"
    },
    {
      "cell_type": "markdown",
      "metadata": {
        "id": "88hEUdhUqtGZ"
      },
      "source": [
        "✅ **Your Turn**: Wrap a longer multi-line operation with `%%time` to measure its runtime."
      ],
      "id": "88hEUdhUqtGZ"
    },
    {
      "cell_type": "code",
      "source": [
        "%%timeit\n",
        "import random\n",
        "\n",
        "nums = [random.random() for _ in range(1_000_000)]  # build list\n",
        "nums.sort()                                        # sort list\n"
      ],
      "metadata": {
        "id": "YBWflSpnwS4E",
        "outputId": "275cc839-51a9-4be8-8856-01013013ff04",
        "colab": {
          "base_uri": "https://localhost:8080/"
        }
      },
      "id": "YBWflSpnwS4E",
      "execution_count": 12,
      "outputs": [
        {
          "output_type": "stream",
          "name": "stdout",
          "text": [
            "623 ms ± 125 ms per loop (mean ± std. dev. of 7 runs, 1 loop each)\n"
          ]
        }
      ]
    },
    {
      "cell_type": "markdown",
      "metadata": {
        "id": "Dudgf_G0qtGZ"
      },
      "source": [
        "## 4. Comparing Loops vs. NumPy"
      ],
      "id": "Dudgf_G0qtGZ"
    },
    {
      "cell_type": "code",
      "execution_count": 13,
      "metadata": {
        "id": "1UK26KfEqtGZ",
        "outputId": "c22e48c4-f4fc-4900-b9be-152c5e17030b",
        "colab": {
          "base_uri": "https://localhost:8080/"
        }
      },
      "outputs": [
        {
          "output_type": "stream",
          "name": "stdout",
          "text": [
            "161 ms ± 38.7 ms per loop (mean ± std. dev. of 7 runs, 10 loops each)\n",
            "1.26 ms ± 140 µs per loop (mean ± std. dev. of 7 runs, 1000 loops each)\n"
          ]
        }
      ],
      "source": [
        "import numpy as np\n",
        "\n",
        "numbers = np.arange(1_000_000)\n",
        "\n",
        "# Python loop\n",
        "%timeit [x**2 for x in numbers]\n",
        "\n",
        "# NumPy vectorized\n",
        "%timeit numbers**2"
      ],
      "id": "1UK26KfEqtGZ"
    },
    {
      "cell_type": "markdown",
      "metadata": {
        "id": "vuu0zsAiqtGa"
      },
      "source": [
        "✅ **Your Turn**: Try squaring numbers with a Python loop, list comprehension, and NumPy array. Compare times."
      ],
      "id": "vuu0zsAiqtGa"
    },
    {
      "cell_type": "code",
      "source": [
        "# For loop\n",
        "%%timeit\n",
        "squares = []\n",
        "for i in range(1_000_000):\n",
        "    squares.append(i**2)\n",
        "\n",
        "\n"
      ],
      "metadata": {
        "id": "dKAc4iKKyE7U",
        "outputId": "40bd1744-8612-4862-8a9f-8f7486ed8175",
        "colab": {
          "base_uri": "https://localhost:8080/"
        }
      },
      "id": "dKAc4iKKyE7U",
      "execution_count": 17,
      "outputs": [
        {
          "output_type": "stream",
          "name": "stdout",
          "text": [
            "115 ms ± 33.4 ms per loop (mean ± std. dev. of 7 runs, 10 loops each)\n"
          ]
        }
      ]
    },
    {
      "cell_type": "code",
      "source": [
        "# List comprehension\n",
        "%timeit [i**2 for i in range(1_000_000)]\n"
      ],
      "metadata": {
        "id": "fDfw7T0q1pk3",
        "outputId": "03466ff0-1923-44e5-ed4f-b5648e8590f9",
        "colab": {
          "base_uri": "https://localhost:8080/"
        }
      },
      "id": "fDfw7T0q1pk3",
      "execution_count": 18,
      "outputs": [
        {
          "output_type": "stream",
          "name": "stdout",
          "text": [
            "103 ms ± 32.1 ms per loop (mean ± std. dev. of 7 runs, 10 loops each)\n"
          ]
        }
      ]
    },
    {
      "cell_type": "code",
      "source": [
        "# NumPy\n",
        "import numpy as np\n",
        "%timeit np.arange(1_000_000)**2\n"
      ],
      "metadata": {
        "id": "7YUsgaGn1t5h",
        "outputId": "1c435ed9-43c2-4dfb-b4fb-4f9eeccdbd34",
        "colab": {
          "base_uri": "https://localhost:8080/"
        }
      },
      "id": "7YUsgaGn1t5h",
      "execution_count": 19,
      "outputs": [
        {
          "output_type": "stream",
          "name": "stdout",
          "text": [
            "2.25 ms ± 53.5 µs per loop (mean ± std. dev. of 7 runs, 100 loops each)\n"
          ]
        }
      ]
    },
    {
      "cell_type": "markdown",
      "metadata": {
        "id": "fDeXX5F4qtGa"
      },
      "source": [
        "## 5. Why This Matters\n",
        "- Performance differences become huge with large datasets.\n",
        "- Vectorized operations (like NumPy, Pandas) are usually faster.\n",
        "- `%timeit` is your friend when deciding how to implement something.\n"
      ],
      "id": "fDeXX5F4qtGa"
    },
    {
      "cell_type": "markdown",
      "metadata": {
        "id": "b05wiv4PqtGa"
      },
      "source": [
        "---\n",
        "### Summary\n",
        "- `%time` and `%timeit` measure execution speed.\n",
        "- `%%time` and `%%timeit` work on whole cells.\n",
        "- Loops are slower than list comprehensions, which are slower than NumPy.\n",
        "- Always measure performance before optimizing.\n"
      ],
      "id": "b05wiv4PqtGa"
    }
  ],
  "metadata": {
    "kernelspec": {
      "display_name": ".venv",
      "language": "python",
      "name": "python3"
    },
    "language_info": {
      "name": "python",
      "version": "3.13.7"
    },
    "colab": {
      "provenance": [],
      "include_colab_link": true
    }
  },
  "nbformat": 4,
  "nbformat_minor": 5
}