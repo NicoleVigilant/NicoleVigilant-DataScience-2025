{
  "cells": [
    {
      "cell_type": "markdown",
      "metadata": {
        "id": "view-in-github",
        "colab_type": "text"
      },
      "source": [
        "<a href=\"https://colab.research.google.com/github/NicoleVigilant/NicoleVigilant-DataScience-2025/blob/main/Completed/05-Foundations/02-markdown_and_formatting.ipynb\" target=\"_parent\"><img src=\"https://colab.research.google.com/assets/colab-badge.svg\" alt=\"Open In Colab\"/></a>"
      ]
    },
    {
      "cell_type": "markdown",
      "metadata": {
        "id": "_K03qn6ldAgS"
      },
      "source": [
        "# 📝 02 - Markdown and Formatting\n",
        "\n",
        "Jupyter notebooks are not just for code — you can mix **Markdown** and code to create clear, professional-looking reports.\n",
        "\n",
        "This notebook introduces:\n",
        "- Writing Markdown cells (headings, lists, links)\n",
        "- Adding inline **LaTeX math**\n",
        "- Embedding images\n",
        "- Why formatting matters in data science communication\n"
      ],
      "id": "_K03qn6ldAgS"
    },
    {
      "cell_type": "markdown",
      "metadata": {
        "id": "T2Zv--AddAgT"
      },
      "source": [
        "## 1. Headings and Text Styles"
      ],
      "id": "T2Zv--AddAgT"
    },
    {
      "cell_type": "markdown",
      "metadata": {
        "id": "NKn8yAJOdAgT"
      },
      "source": [
        "### Example\n",
        "# Heading 1\n",
        "## Heading 2\n",
        "### Heading 3\n",
        "\n",
        "**Bold text**, *italic text*, `inline code`"
      ],
      "id": "NKn8yAJOdAgT"
    },
    {
      "cell_type": "markdown",
      "metadata": {
        "id": "Eh3Uu9LydAgT"
      },
      "source": [
        "✅ **Your Turn**: Create a cell with the heading `## My Favorite Data Tools` and list at least three tools in bold."
      ],
      "id": "Eh3Uu9LydAgT"
    },
    {
      "cell_type": "markdown",
      "metadata": {
        "id": "0c0819ae"
      },
      "source": [
        "## My Favorite Data Tools\n",
        "\n",
        "**Excel**, **Colab**, **Google Sheets**"
      ],
      "id": "0c0819ae"
    },
    {
      "cell_type": "markdown",
      "metadata": {
        "id": "3vkr73ufdAgU"
      },
      "source": [
        "## 2. Lists"
      ],
      "id": "3vkr73ufdAgU"
    },
    {
      "cell_type": "markdown",
      "metadata": {
        "id": "1kT3P2gpdAgU"
      },
      "source": [
        "### Example\n",
        "- Item 1\n",
        "- Item 2\n",
        "  - Sub-item 2a\n",
        "  - Sub-item 2b\n",
        "\n",
        "1. First\n",
        "2. Second\n",
        "3. Third"
      ],
      "id": "1kT3P2gpdAgU"
    },
    {
      "cell_type": "markdown",
      "metadata": {
        "id": "S9IsL5uydAgU"
      },
      "source": [
        "✅ **Your Turn**: Make an ordered list of your top 3 programming languages."
      ],
      "id": "S9IsL5uydAgU"
    },
    {
      "cell_type": "markdown",
      "source": [
        "# My Top 3 Programming Languages\n",
        "1. C++\n",
        "2. Python\n",
        "3. Java\n"
      ],
      "metadata": {
        "id": "6amP-N8Id1jG"
      },
      "id": "6amP-N8Id1jG"
    },
    {
      "cell_type": "markdown",
      "metadata": {
        "id": "N7e4lsAGdAgU"
      },
      "source": [
        "## 3. Links and Images"
      ],
      "id": "N7e4lsAGdAgU"
    },
    {
      "cell_type": "markdown",
      "metadata": {
        "id": "J60WrZ-FdAgU"
      },
      "source": [
        "### Links\n",
        "[OpenAI](https://www.openai.com)\n",
        "\n",
        "### Images\n",
        "![MSU Logo](https://upload.wikimedia.org/wikipedia/en/8/8b/Midwestern_State_University_seal.png)"
      ],
      "id": "J60WrZ-FdAgU"
    },
    {
      "cell_type": "markdown",
      "metadata": {
        "id": "fqQKnE7odAgU"
      },
      "source": [
        "✅ **Your Turn**: Insert a link to your favorite website and embed an image (can be a URL or local file)."
      ],
      "id": "fqQKnE7odAgU"
    },
    {
      "cell_type": "markdown",
      "source": [
        "\n",
        "[Quizlet](https://quizlet.com/latest)\n",
        "\n",
        "![Quizlet Logo](https://img.icons8.com/color/512/quizlet.png)\n",
        "\n",
        "\n"
      ],
      "metadata": {
        "id": "LbyhKIUKePT-"
      },
      "id": "LbyhKIUKePT-"
    },
    {
      "cell_type": "markdown",
      "metadata": {
        "id": "MUX_VZmPdAgU"
      },
      "source": [
        "## 4. LaTeX Math"
      ],
      "id": "MUX_VZmPdAgU"
    },
    {
      "cell_type": "markdown",
      "metadata": {
        "id": "SAxqeDvvdAgU"
      },
      "source": [
        "You can render math using LaTeX syntax inside `$ ... $` for inline or `$$ ... $$` for block math.\n",
        "\n",
        "Example:  \n",
        "Inline: $E = mc^2$  \n",
        "Block:\n",
        "$$\n",
        "\\frac{\\partial f}{\\partial x} = 2x\n",
        "$$"
      ],
      "id": "SAxqeDvvdAgU"
    },
    {
      "cell_type": "markdown",
      "metadata": {
        "id": "MOJP_wFMdAgV"
      },
      "source": [
        "✅ **Your Turn**: Write the quadratic formula in LaTeX."
      ],
      "id": "MOJP_wFMdAgV"
    },
    {
      "cell_type": "markdown",
      "source": [
        "$$\n",
        "x = \\frac{-b \\pm \\sqrt{b^2 - 4ac}}{2a}\n",
        "$$\n"
      ],
      "metadata": {
        "id": "MP5xsFeffTw6"
      },
      "id": "MP5xsFeffTw6"
    },
    {
      "cell_type": "markdown",
      "metadata": {
        "id": "F5B7GrvgdAgV"
      },
      "source": [
        "## 5. Mixing Code and Markdown"
      ],
      "id": "F5B7GrvgdAgV"
    },
    {
      "cell_type": "code",
      "execution_count": 4,
      "metadata": {
        "colab": {
          "base_uri": "https://localhost:8080/"
        },
        "id": "4JW3_ZS2dAgV",
        "outputId": "de454417-6975-4de3-ebe0-1ceb0678e8a1"
      },
      "outputs": [
        {
          "output_type": "execute_result",
          "data": {
            "text/plain": [
              "[1, 4, 9, 16, 25]"
            ]
          },
          "metadata": {},
          "execution_count": 4
        }
      ],
      "source": [
        "# Example: create data in Python\n",
        "numbers = [1, 2, 3, 4, 5]\n",
        "squares = [n**2 for n in numbers]\n",
        "squares"
      ],
      "id": "4JW3_ZS2dAgV"
    },
    {
      "cell_type": "markdown",
      "metadata": {
        "id": "v6WGh_PBdAgV"
      },
      "source": [
        "Now we explain results in Markdown:\n",
        "- The list `numbers` contained 1–5.\n",
        "- The list `squares` contains each number squared.\n",
        "- Mixing narrative + results is why notebooks are so powerful."
      ],
      "id": "v6WGh_PBdAgV"
    },
    {
      "cell_type": "markdown",
      "metadata": {
        "id": "0GZgk4FidAgV"
      },
      "source": [
        "✅ **Your Turn**: Create a list of 3 numbers, calculate their cubes in code, then explain in Markdown."
      ],
      "id": "0GZgk4FidAgV"
    },
    {
      "cell_type": "code",
      "source": [
        "numbers = [2, 4, 6, 8, 12]\n",
        "cubes = [n**3 for n in numbers]\n",
        "cubes"
      ],
      "metadata": {
        "id": "icLlR0hMf0H3",
        "outputId": "610c847e-2839-459d-e73b-528a381f1f3d",
        "colab": {
          "base_uri": "https://localhost:8080/"
        }
      },
      "id": "icLlR0hMf0H3",
      "execution_count": 5,
      "outputs": [
        {
          "output_type": "execute_result",
          "data": {
            "text/plain": [
              "[8, 64, 216, 512, 1728]"
            ]
          },
          "metadata": {},
          "execution_count": 5
        }
      ]
    },
    {
      "cell_type": "markdown",
      "source": [
        "\n",
        "Results Explained:\n",
        "*   The list `numbers` contains numbers 2,4,5,8,12.\n",
        "*   The list `cubes` contains each number cubed\n",
        "\n"
      ],
      "metadata": {
        "id": "OIGJSHqTf-1v"
      },
      "id": "OIGJSHqTf-1v"
    },
    {
      "cell_type": "markdown",
      "metadata": {
        "id": "AQv35dzTdAgV"
      },
      "source": [
        "---\n",
        "### Summary\n",
        "- Use headings and formatting to organize.\n",
        "- Lists and links make content readable.\n",
        "- LaTeX lets you add professional math.\n",
        "- Combine code + Markdown for clear data storytelling.\n"
      ],
      "id": "AQv35dzTdAgV"
    }
  ],
  "metadata": {
    "kernelspec": {
      "display_name": "Python 3",
      "language": "python",
      "name": "python3"
    },
    "language_info": {
      "name": "python",
      "version": "3.x"
    },
    "colab": {
      "provenance": [],
      "include_colab_link": true
    }
  },
  "nbformat": 4,
  "nbformat_minor": 5
}