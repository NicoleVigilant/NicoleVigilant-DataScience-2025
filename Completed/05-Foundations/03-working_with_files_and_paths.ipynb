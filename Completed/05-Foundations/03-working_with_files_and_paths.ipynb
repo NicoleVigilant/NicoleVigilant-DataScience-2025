{
  "cells": [
    {
      "cell_type": "markdown",
      "metadata": {
        "id": "view-in-github",
        "colab_type": "text"
      },
      "source": [
        "<a href=\"https://colab.research.google.com/github/NicoleVigilant/NicoleVigilant-DataScience-2025/blob/main/Completed/05-Foundations/03-working_with_files_and_paths.ipynb\" target=\"_parent\"><img src=\"https://colab.research.google.com/assets/colab-badge.svg\" alt=\"Open In Colab\"/></a>"
      ]
    },
    {
      "cell_type": "markdown",
      "metadata": {
        "id": "8Q7opeOfg50a"
      },
      "source": [
        "# 📂 03 - Working with Files and Paths\n",
        "\n",
        "Data science means working with files all the time: datasets, config files, logs.  \n",
        "This notebook introduces:\n",
        "- Checking your current path in Jupyter\n",
        "- Navigating directories\n",
        "- Reading and writing text files\n",
        "- Using `with` for safe file handling\n",
        "- Basics of JSON and CSV I/O\n"
      ],
      "id": "8Q7opeOfg50a"
    },
    {
      "cell_type": "markdown",
      "metadata": {
        "id": "wi4EZH8Jg50b"
      },
      "source": [
        "## 1. Where Am I?"
      ],
      "id": "wi4EZH8Jg50b"
    },
    {
      "cell_type": "code",
      "execution_count": 1,
      "metadata": {
        "id": "e2bsBDcWg50c",
        "outputId": "3361057c-463f-45a4-af0b-149d7d017219",
        "colab": {
          "base_uri": "https://localhost:8080/",
          "height": 36
        }
      },
      "outputs": [
        {
          "output_type": "execute_result",
          "data": {
            "text/plain": [
              "'/content'"
            ],
            "application/vnd.google.colaboratory.intrinsic+json": {
              "type": "string"
            }
          },
          "metadata": {},
          "execution_count": 1
        }
      ],
      "source": [
        "%pwd  # Print current working directory"
      ],
      "id": "e2bsBDcWg50c"
    },
    {
      "cell_type": "code",
      "execution_count": 2,
      "metadata": {
        "id": "bh22FsSHg50c",
        "outputId": "6fba19c7-7c7e-49b0-c9ca-8b4b9309c1eb",
        "colab": {
          "base_uri": "https://localhost:8080/"
        }
      },
      "outputs": [
        {
          "output_type": "stream",
          "name": "stdout",
          "text": [
            "\u001b[0m\u001b[01;34msample_data\u001b[0m/\n"
          ]
        }
      ],
      "source": [
        "%ls  # List files in the current directory"
      ],
      "id": "bh22FsSHg50c"
    },
    {
      "cell_type": "code",
      "execution_count": 3,
      "metadata": {
        "id": "Vi7zEGCig50d",
        "outputId": "39fedc83-6e85-4c2f-8ebd-9994bdd1f441",
        "colab": {
          "base_uri": "https://localhost:8080/",
          "height": 70
        }
      },
      "outputs": [
        {
          "output_type": "stream",
          "name": "stdout",
          "text": [
            "[Errno 2] No such file or directory: '.. # Change to parent directory'\n",
            "/content\n"
          ]
        },
        {
          "output_type": "execute_result",
          "data": {
            "text/plain": [
              "'/content'"
            ],
            "application/vnd.google.colaboratory.intrinsic+json": {
              "type": "string"
            }
          },
          "metadata": {},
          "execution_count": 3
        }
      ],
      "source": [
        "%cd ..  # Change to parent directory\n",
        "%pwd"
      ],
      "id": "Vi7zEGCig50d"
    },
    {
      "cell_type": "markdown",
      "metadata": {
        "id": "vuNwCL-xg50d"
      },
      "source": [
        "✅ **Your Turn**: Navigate into a subfolder of your repo (e.g., `Foundations/`) and list its contents."
      ],
      "id": "vuNwCL-xg50d"
    },
    {
      "cell_type": "code",
      "source": [
        "!git clone https://github.com/NicoleVigilant/NicoleVigilant-DataScience-2025.git\n",
        "%cd NicoleVigilant-DataScience-2025\n",
        "%ls"
      ],
      "metadata": {
        "id": "kGPdx7Bkh9C-",
        "outputId": "da807948-eea9-4105-9aaa-03df0738736f",
        "colab": {
          "base_uri": "https://localhost:8080/"
        }
      },
      "id": "kGPdx7Bkh9C-",
      "execution_count": 16,
      "outputs": [
        {
          "output_type": "stream",
          "name": "stdout",
          "text": [
            "Cloning into 'NicoleVigilant-DataScience-2025'...\n",
            "remote: Enumerating objects: 196, done.\u001b[K\n",
            "remote: Counting objects: 100% (196/196), done.\u001b[K\n",
            "remote: Compressing objects: 100% (183/183), done.\u001b[K\n",
            "remote: Total 196 (delta 74), reused 0 (delta 0), pack-reused 0 (from 0)\u001b[K\n",
            "Receiving objects: 100% (196/196), 4.95 MiB | 5.21 MiB/s, done.\n",
            "Resolving deltas: 100% (74/74), done.\n",
            "/content/NicoleVigilant-DataScience-2025/Assignments/05-Foundations/NicoleVigilant-DataScience-2025\n",
            "\u001b[0m\u001b[01;34mAssignments\u001b[0m/  \u001b[01;34mCompleted\u001b[0m/  \u001b[01;34mExams\u001b[0m/  README.md\n"
          ]
        }
      ]
    },
    {
      "cell_type": "code",
      "source": [
        "%cd Assignments/05-Foundations/\n",
        "%ls"
      ],
      "metadata": {
        "id": "QA3LArWGiTMs",
        "outputId": "13518fe4-46cc-4d5c-cd4b-6a525e7357d9",
        "colab": {
          "base_uri": "https://localhost:8080/"
        }
      },
      "id": "QA3LArWGiTMs",
      "execution_count": 17,
      "outputs": [
        {
          "output_type": "stream",
          "name": "stdout",
          "text": [
            "/content/NicoleVigilant-DataScience-2025/Assignments/05-Foundations/NicoleVigilant-DataScience-2025/Assignments/05-Foundations\n",
            "01-magic_commands.ipynb                      07-using_help_and_docs.ipynb\n",
            "02-markdown_and_formatting.ipynb             08-timing_and_performance.ipynb\n",
            "03-working_with_files_and_paths.ipynb        Foundations_Quiz.ipynb\n",
            "04-data_input_output.ipynb                   glossary.md\n",
            "05-plotting_basics.ipynb                     README.md\n",
            "06-jupyter_shortcuts_and_productivity.ipynb\n"
          ]
        }
      ]
    },
    {
      "cell_type": "markdown",
      "metadata": {
        "id": "YxhmW8OLg50d"
      },
      "source": [
        "## 2. Writing and Reading Text Files"
      ],
      "id": "YxhmW8OLg50d"
    },
    {
      "cell_type": "code",
      "execution_count": 18,
      "metadata": {
        "id": "V3uPiLV_g50d"
      },
      "outputs": [],
      "source": [
        "# Writing to a text file\n",
        "with open(\"example.txt\", \"w\") as f:\n",
        "    f.write(\"Hello, Jupyter!\\n\")\n",
        "    f.write(\"This is a text file.\\n\")"
      ],
      "id": "V3uPiLV_g50d"
    },
    {
      "cell_type": "code",
      "execution_count": 19,
      "metadata": {
        "id": "n8nuePEkg50e",
        "outputId": "4ab1fa79-d0a2-41e6-af44-f31ca24992ba",
        "colab": {
          "base_uri": "https://localhost:8080/",
          "height": 36
        }
      },
      "outputs": [
        {
          "output_type": "execute_result",
          "data": {
            "text/plain": [
              "'Hello, Jupyter!\\nThis is a text file.\\n'"
            ],
            "application/vnd.google.colaboratory.intrinsic+json": {
              "type": "string"
            }
          },
          "metadata": {},
          "execution_count": 19
        }
      ],
      "source": [
        "# Reading from a text file\n",
        "with open(\"example.txt\", \"r\") as f:\n",
        "    contents = f.read()\n",
        "contents"
      ],
      "id": "n8nuePEkg50e"
    },
    {
      "cell_type": "markdown",
      "metadata": {
        "id": "5kU7byXEg50e"
      },
      "source": [
        "✅ **Your Turn**: Write your name into a file called `me.txt`, then read it back and print the result."
      ],
      "id": "5kU7byXEg50e"
    },
    {
      "cell_type": "code",
      "source": [
        "with open (\"me.txt\", \"w\") as f:\n",
        "    f.write(\"Nicole Vigilant\")\n",
        "\n",
        "\n",
        "with open(\"me.txt\", \"r\") as f:\n",
        "    contents = f.read()\n",
        "contents"
      ],
      "metadata": {
        "id": "aKxsySyUjegU",
        "outputId": "72cdb45b-1685-422d-af1a-e13d9da7334c",
        "colab": {
          "base_uri": "https://localhost:8080/",
          "height": 36
        }
      },
      "id": "aKxsySyUjegU",
      "execution_count": 20,
      "outputs": [
        {
          "output_type": "execute_result",
          "data": {
            "text/plain": [
              "'Nicole Vigilant'"
            ],
            "application/vnd.google.colaboratory.intrinsic+json": {
              "type": "string"
            }
          },
          "metadata": {},
          "execution_count": 20
        }
      ]
    },
    {
      "cell_type": "markdown",
      "metadata": {
        "id": "zASEy118g50e"
      },
      "source": [
        "## 3. JSON Files"
      ],
      "id": "zASEy118g50e"
    },
    {
      "cell_type": "code",
      "execution_count": 21,
      "metadata": {
        "id": "qk1igATvg50e",
        "outputId": "e9ea3ed5-1abb-422b-f1ed-88e56b451f06",
        "colab": {
          "base_uri": "https://localhost:8080/"
        }
      },
      "outputs": [
        {
          "output_type": "execute_result",
          "data": {
            "text/plain": [
              "{'name': 'Graylian', 'type': 'mascot', 'skills': ['howl', 'parrot talk']}"
            ]
          },
          "metadata": {},
          "execution_count": 21
        }
      ],
      "source": [
        "import json\n",
        "\n",
        "data = {\"name\": \"Graylian\", \"type\": \"mascot\", \"skills\": [\"howl\", \"parrot talk\"]}\n",
        "\n",
        "# Write JSON\n",
        "with open(\"data.json\", \"w\") as f:\n",
        "    json.dump(data, f)\n",
        "\n",
        "# Read JSON\n",
        "with open(\"data.json\", \"r\") as f:\n",
        "    loaded = json.load(f)\n",
        "loaded"
      ],
      "id": "qk1igATvg50e"
    },
    {
      "cell_type": "markdown",
      "metadata": {
        "id": "Xz0u2tWXg50e"
      },
      "source": [
        "✅ **Your Turn**: Create a dictionary with your name and 2-3 favorite courses. Save it to `courses.json`, then read it back."
      ],
      "id": "Xz0u2tWXg50e"
    },
    {
      "cell_type": "code",
      "source": [
        "import json\n",
        "\n",
        "data = {\"name\": \"Nicole\", \"favourite courses\": [\"Calculus 2\", \"Linear Algebra\", \"Operations Research\"]}\n",
        "\n",
        "with open(\"courses.json\", \"w\") as f:\n",
        "    json.dump(data, f)\n",
        "\n",
        "with open(\"courses.json\", \"r\") as f:\n",
        "    loaded = json.load(f)\n",
        "loaded\n"
      ],
      "metadata": {
        "id": "STzw3GNZjpi_",
        "outputId": "6b237e99-3dbd-4904-94bc-5d0748233299",
        "colab": {
          "base_uri": "https://localhost:8080/"
        }
      },
      "id": "STzw3GNZjpi_",
      "execution_count": 23,
      "outputs": [
        {
          "output_type": "execute_result",
          "data": {
            "text/plain": [
              "{'name': 'Nicole',\n",
              " 'favourite courses': ['Calculus 2', 'Linear Algebra', 'Operations Research']}"
            ]
          },
          "metadata": {},
          "execution_count": 23
        }
      ]
    },
    {
      "cell_type": "markdown",
      "metadata": {
        "id": "yFEkshtZg50f"
      },
      "source": [
        "## 4. CSV Files"
      ],
      "id": "yFEkshtZg50f"
    },
    {
      "cell_type": "code",
      "execution_count": 24,
      "metadata": {
        "id": "HbaLNaXSg50f",
        "outputId": "a88bc14b-2c58-48e0-f656-b039ccf2b0fd",
        "colab": {
          "base_uri": "https://localhost:8080/"
        }
      },
      "outputs": [
        {
          "output_type": "stream",
          "name": "stdout",
          "text": [
            "['Name', 'Score']\n",
            "['Alice', '90']\n",
            "['Bob', '85']\n"
          ]
        }
      ],
      "source": [
        "import csv\n",
        "\n",
        "# Writing CSV\n",
        "rows = [[\"Name\", \"Score\"], [\"Alice\", 90], [\"Bob\", 85]]\n",
        "with open(\"scores.csv\", \"w\", newline=\"\") as f:\n",
        "    writer = csv.writer(f)\n",
        "    writer.writerows(rows)\n",
        "\n",
        "# Reading CSV\n",
        "with open(\"scores.csv\", \"r\") as f:\n",
        "    reader = csv.reader(f)\n",
        "    for row in reader:\n",
        "        print(row)"
      ],
      "id": "HbaLNaXSg50f"
    },
    {
      "cell_type": "markdown",
      "metadata": {
        "id": "pbMO5OXDg50f"
      },
      "source": [
        "✅ **Your Turn**: Create a CSV with 3 rows of your own data (e.g., pets, grades, or hobbies). Read it back and display the rows."
      ],
      "id": "pbMO5OXDg50f"
    },
    {
      "cell_type": "code",
      "source": [
        "import csv\n",
        "\n",
        "rows = [[\"Pet\", \"Type\", \"Age\"], [\"Dog\", \"Labrador Retriever\", 3], [\"Cat\", \"Siamese\", 6]]\n",
        "with open(\"pets.csv\", \"w\", newline=\"\") as f:\n",
        "    writer = csv.writer(f)\n",
        "    writer.writerows(rows)\n",
        "\n",
        "with open(\"pets.csv\", \"r\") as f:\n",
        "    reader = csv.reader(f)\n",
        "    for row in reader:\n",
        "        print(row)"
      ],
      "metadata": {
        "id": "d-wV0wWxk3OS",
        "outputId": "5336eea3-4a7b-45ea-e13b-0cd7235e504c",
        "colab": {
          "base_uri": "https://localhost:8080/"
        }
      },
      "id": "d-wV0wWxk3OS",
      "execution_count": 27,
      "outputs": [
        {
          "output_type": "stream",
          "name": "stdout",
          "text": [
            "['Pet', 'Type', 'Age']\n",
            "['Dog', 'Labrador Retriever', '3']\n",
            "['Cat', 'Siamese', '6']\n"
          ]
        }
      ]
    },
    {
      "cell_type": "markdown",
      "metadata": {
        "id": "h7QSA9Nng50f"
      },
      "source": [
        "---\n",
        "### Summary\n",
        "- `%pwd`, `%ls`, `%cd` show you where you are in the filesystem.\n",
        "- Use `with open(...)` to safely read/write files.\n",
        "- JSON is for structured data (key/value).\n",
        "- CSV is for tabular data (rows/columns).\n",
        "- Managing files is step 1 in any real data science project.\n"
      ],
      "id": "h7QSA9Nng50f"
    }
  ],
  "metadata": {
    "kernelspec": {
      "display_name": "Python 3",
      "language": "python",
      "name": "python3"
    },
    "language_info": {
      "name": "python",
      "version": "3.x"
    },
    "colab": {
      "provenance": [],
      "include_colab_link": true
    }
  },
  "nbformat": 4,
  "nbformat_minor": 5
}