{
  "cells": [
    {
      "cell_type": "markdown",
      "metadata": {
        "id": "view-in-github",
        "colab_type": "text"
      },
      "source": [
        "<a href=\"https://colab.research.google.com/github/NicoleVigilant/NicoleVigilant-DataScience-2025/blob/main/Completed/05-Foundations/06-jupyter_shortcuts_and_productivity.ipynb\" target=\"_parent\"><img src=\"https://colab.research.google.com/assets/colab-badge.svg\" alt=\"Open In Colab\"/></a>"
      ]
    },
    {
      "cell_type": "markdown",
      "metadata": {
        "id": "DA75GKdEfIqt"
      },
      "source": [
        "# ⚡ 06 - Jupyter Shortcuts and Productivity\n",
        "\n",
        "Jupyter notebooks have **keyboard shortcuts and tricks** that make you faster.  \n",
        "In this notebook you will learn:\n",
        "- Command vs. Edit mode\n",
        "- Essential keyboard shortcuts\n",
        "- Saving and exporting notebooks\n",
        "- Using `%history` and `%save`\n"
      ],
      "id": "DA75GKdEfIqt"
    },
    {
      "cell_type": "markdown",
      "metadata": {
        "id": "pPc4JNWrfIqv"
      },
      "source": [
        "## 1. Modes in Jupyter"
      ],
      "id": "pPc4JNWrfIqv"
    },
    {
      "cell_type": "markdown",
      "metadata": {
        "id": "a_Dm-ghtfIqw"
      },
      "source": [
        "- **Edit mode** (green border, type in cell)\n",
        "- **Command mode** (blue border, issue commands on the notebook)\n",
        "\n",
        "Switch:\n",
        "- Press `Enter` → Edit mode\n",
        "- Press `Esc` → Command mode"
      ],
      "id": "a_Dm-ghtfIqw"
    },
    {
      "cell_type": "markdown",
      "metadata": {
        "id": "_NdbsEYFfIqw"
      },
      "source": [
        "✅ **Your Turn**: Try switching between Edit and Command mode and notice the border color."
      ],
      "id": "_NdbsEYFfIqw"
    },
    {
      "cell_type": "markdown",
      "metadata": {
        "id": "dzLBdCUCfIqw"
      },
      "source": [
        "## 2. Common Shortcuts"
      ],
      "id": "dzLBdCUCfIqw"
    },
    {
      "cell_type": "markdown",
      "metadata": {
        "id": "p1HMyK3JfIqw"
      },
      "source": [
        "- `A` → Insert cell Above\n",
        "- `B` → Insert cell Below\n",
        "- `D D` → Delete a cell\n",
        "- `M` → Change to Markdown cell\n",
        "- `Y` → Change to Code cell\n",
        "- `Shift + Enter` → Run cell and move to next\n",
        "- `Ctrl + Enter` → Run cell, stay put\n",
        "- `Alt + Enter` → Run cell and insert new one below"
      ],
      "id": "p1HMyK3JfIqw"
    },
    {
      "cell_type": "code",
      "source": [
        "print('Hello World!')"
      ],
      "metadata": {
        "id": "VoMvVe2lgw8N",
        "outputId": "6fa6d561-d50c-4548-ae9a-b87f53b2f199",
        "colab": {
          "base_uri": "https://localhost:8080/"
        }
      },
      "id": "VoMvVe2lgw8N",
      "execution_count": 5,
      "outputs": [
        {
          "output_type": "stream",
          "name": "stdout",
          "text": [
            "Hello World!\n"
          ]
        }
      ]
    },
    {
      "cell_type": "code",
      "source": [
        "print('Hello Again!')"
      ],
      "metadata": {
        "id": "rqEgfZh3hOjS",
        "outputId": "d2394b89-f316-4123-a7f6-727bacb08b73",
        "colab": {
          "base_uri": "https://localhost:8080/"
        }
      },
      "id": "rqEgfZh3hOjS",
      "execution_count": 7,
      "outputs": [
        {
          "output_type": "stream",
          "name": "stdout",
          "text": [
            "Hello Again!\n"
          ]
        }
      ]
    },
    {
      "cell_type": "markdown",
      "metadata": {
        "id": "YpIrb-KwfIqw"
      },
      "source": [
        "✅ **Your Turn**: Practice creating, deleting, and changing cell types using only shortcuts."
      ],
      "id": "YpIrb-KwfIqw"
    },
    {
      "cell_type": "markdown",
      "metadata": {
        "id": "rH2ivlfcfIqw"
      },
      "source": [
        "## 3. Saving and Exporting"
      ],
      "id": "rH2ivlfcfIqw"
    },
    {
      "cell_type": "markdown",
      "metadata": {
        "id": "OhWKS9CnfIqx"
      },
      "source": [
        "- `Ctrl + S` (or `Cmd + S` on Mac) → Save notebook\n",
        "- Menu: *File → Download as…* → export to `.py`, `.html`, or `.pdf`\n",
        "- GitHub + Colab workflow: commit changes back to your repo directly"
      ],
      "id": "OhWKS9CnfIqx"
    },
    {
      "cell_type": "markdown",
      "metadata": {
        "id": "d4iBRTomfIqx"
      },
      "source": [
        "✅ **Your Turn**: Save this notebook, then try exporting to `.py` or `.html` from the File menu."
      ],
      "id": "d4iBRTomfIqx"
    },
    {
      "cell_type": "markdown",
      "metadata": {
        "id": "kzc8oqCSfIqx"
      },
      "source": [
        "## 4. History and Saving Code"
      ],
      "id": "kzc8oqCSfIqx"
    },
    {
      "cell_type": "code",
      "execution_count": null,
      "metadata": {
        "id": "Icg2oXL_fIqx"
      },
      "outputs": [],
      "source": [
        "%history -n 1-5  # Show the first 5 commands in this session"
      ],
      "id": "Icg2oXL_fIqx"
    },
    {
      "cell_type": "code",
      "execution_count": null,
      "metadata": {
        "id": "l6FKeJ4-fIqy"
      },
      "outputs": [],
      "source": [
        "# Save history to a file\n",
        "%save my_session.py 1-5"
      ],
      "id": "l6FKeJ4-fIqy"
    },
    {
      "cell_type": "markdown",
      "metadata": {
        "id": "P0AJP-rIfIqy"
      },
      "source": [
        "✅ **Your Turn**: Use `%history` to view the last 10 commands you ran, then save them to `last10.py`."
      ],
      "id": "P0AJP-rIfIqy"
    },
    {
      "cell_type": "markdown",
      "metadata": {
        "id": "8olkZNnzfIqy"
      },
      "source": [
        "---\n",
        "### Summary\n",
        "- Command vs Edit mode controls how you interact with cells.\n",
        "- Shortcuts make notebook use much faster.\n",
        "- You can export notebooks to share or turn them into scripts.\n",
        "- `%history` and `%save` help you capture your work.\n"
      ],
      "id": "8olkZNnzfIqy"
    }
  ],
  "metadata": {
    "kernelspec": {
      "display_name": "Python 3",
      "language": "python",
      "name": "python3"
    },
    "language_info": {
      "name": "python",
      "version": "3.x"
    },
    "colab": {
      "provenance": [],
      "include_colab_link": true
    }
  },
  "nbformat": 4,
  "nbformat_minor": 5
}