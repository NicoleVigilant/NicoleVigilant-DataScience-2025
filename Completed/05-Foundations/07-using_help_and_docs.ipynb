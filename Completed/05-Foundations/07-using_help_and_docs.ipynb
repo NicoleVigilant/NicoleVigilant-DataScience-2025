{
  "cells": [
    {
      "cell_type": "markdown",
      "metadata": {
        "id": "view-in-github",
        "colab_type": "text"
      },
      "source": [
        "<a href=\"https://colab.research.google.com/github/NicoleVigilant/NicoleVigilant-DataScience-2025/blob/main/Completed/05-Foundations/07-using_help_and_docs.ipynb\" target=\"_parent\"><img src=\"https://colab.research.google.com/assets/colab-badge.svg\" alt=\"Open In Colab\"/></a>"
      ]
    },
    {
      "cell_type": "markdown",
      "metadata": {
        "id": "nfE2B0R3kalT"
      },
      "source": [
        "# 📚 07 - Using Help and Documentation\n",
        "\n",
        "One of the most important skills in programming is knowing **how to get help**.  \n",
        "Jupyter/IPython make it easy to explore functions, classes, and objects.\n",
        "\n",
        "In this notebook you will learn:\n",
        "- Using `?` and `??` to view docstrings and source code\n",
        "- The built-in `help()` function\n",
        "- Tab completion for attributes and methods\n",
        "- Accessing external documentation\n"
      ],
      "id": "nfE2B0R3kalT"
    },
    {
      "cell_type": "markdown",
      "metadata": {
        "id": "gnN6FbxhkalU"
      },
      "source": [
        "## 1. Using `?` for Quick Help"
      ],
      "id": "gnN6FbxhkalU"
    },
    {
      "cell_type": "code",
      "execution_count": 8,
      "metadata": {
        "id": "BKvaxBLSkalU"
      },
      "outputs": [],
      "source": [
        "len?"
      ],
      "id": "BKvaxBLSkalU"
    },
    {
      "cell_type": "code",
      "execution_count": 9,
      "metadata": {
        "id": "yn-HVNvKkalV"
      },
      "outputs": [],
      "source": [
        "print?\n",
        "# Show help for print()"
      ],
      "id": "yn-HVNvKkalV"
    },
    {
      "cell_type": "markdown",
      "metadata": {
        "id": "xK-n8gK3kalV"
      },
      "source": [
        "✅ **Your Turn**: Use `?` to check the documentation for `range` and `dict`."
      ],
      "id": "xK-n8gK3kalV"
    },
    {
      "cell_type": "code",
      "source": [
        "range?"
      ],
      "metadata": {
        "id": "SsLU2pcklnjD"
      },
      "id": "SsLU2pcklnjD",
      "execution_count": 3,
      "outputs": []
    },
    {
      "cell_type": "code",
      "source": [
        "dict?"
      ],
      "metadata": {
        "id": "VWmu5SYIly4S"
      },
      "id": "VWmu5SYIly4S",
      "execution_count": 4,
      "outputs": []
    },
    {
      "cell_type": "markdown",
      "metadata": {
        "id": "NSnj5VCekalV"
      },
      "source": [
        "## 2. Using `??` for Source Code (if available)"
      ],
      "id": "NSnj5VCekalV"
    },
    {
      "cell_type": "code",
      "execution_count": 14,
      "metadata": {
        "colab": {
          "base_uri": "https://localhost:8080/",
          "height": 106
        },
        "id": "d8OXBo-PkalV",
        "outputId": "c4405ee6-10aa-4d24-f9f0-dd961aadbfc1"
      },
      "outputs": [
        {
          "output_type": "error",
          "ename": "SyntaxError",
          "evalue": "invalid syntax (ipython-input-2877586948.py, line 1)",
          "traceback": [
            "\u001b[0;36m  File \u001b[0;32m\"/tmp/ipython-input-2877586948.py\"\u001b[0;36m, line \u001b[0;32m1\u001b[0m\n\u001b[0;31m    sum??\u001b[0m\n\u001b[0m       ^\u001b[0m\n\u001b[0;31mSyntaxError\u001b[0m\u001b[0;31m:\u001b[0m invalid syntax\n"
          ]
        }
      ],
      "source": [
        "sum??"
      ],
      "id": "d8OXBo-PkalV"
    },
    {
      "cell_type": "markdown",
      "metadata": {
        "id": "8bjIx52ukalV"
      },
      "source": [
        "✅ **Your Turn**: Use `??` on `pd.read_csv` (after importing pandas) to see if you can view more details."
      ],
      "id": "8bjIx52ukalV"
    },
    {
      "cell_type": "code",
      "source": [
        "import pandas as pd\n",
        "\n",
        "pd.read_csv??"
      ],
      "metadata": {
        "id": "_nViIPC7m8Tk"
      },
      "id": "_nViIPC7m8Tk",
      "execution_count": 15,
      "outputs": []
    },
    {
      "cell_type": "markdown",
      "metadata": {
        "id": "xso_5XxPkalW"
      },
      "source": [
        "## 3. The `help()` Function"
      ],
      "id": "xso_5XxPkalW"
    },
    {
      "cell_type": "code",
      "execution_count": 16,
      "metadata": {
        "colab": {
          "base_uri": "https://localhost:8080/"
        },
        "id": "qn6_0SGAkalW",
        "outputId": "936df106-5c9d-4d73-ecd7-ef7433331e3f"
      },
      "outputs": [
        {
          "output_type": "stream",
          "name": "stdout",
          "text": [
            "Help on built-in function len in module builtins:\n",
            "\n",
            "len(obj, /)\n",
            "    Return the number of items in a container.\n",
            "\n"
          ]
        }
      ],
      "source": [
        "help(len)"
      ],
      "id": "qn6_0SGAkalW"
    },
    {
      "cell_type": "code",
      "execution_count": 17,
      "metadata": {
        "colab": {
          "base_uri": "https://localhost:8080/"
        },
        "id": "srgGmt8PkalW",
        "outputId": "95e43ae9-4897-4f10-853b-02f0c5f8edf1"
      },
      "outputs": [
        {
          "output_type": "stream",
          "name": "stdout",
          "text": [
            "Help on built-in function sqrt in module math:\n",
            "\n",
            "sqrt(x, /)\n",
            "    Return the square root of x.\n",
            "\n"
          ]
        }
      ],
      "source": [
        "import math\n",
        "help(math.sqrt)"
      ],
      "id": "srgGmt8PkalW"
    },
    {
      "cell_type": "markdown",
      "metadata": {
        "id": "_97v89_TkalW"
      },
      "source": [
        "✅ **Your Turn**: Use `help()` to explore `list.append` or `str.upper`."
      ],
      "id": "_97v89_TkalW"
    },
    {
      "cell_type": "code",
      "source": [
        "help(list.append)"
      ],
      "metadata": {
        "colab": {
          "base_uri": "https://localhost:8080/"
        },
        "id": "r4OzggftnUEm",
        "outputId": "a092b245-97de-4182-f178-8ac59162377d"
      },
      "id": "r4OzggftnUEm",
      "execution_count": 18,
      "outputs": [
        {
          "output_type": "stream",
          "name": "stdout",
          "text": [
            "Help on method_descriptor:\n",
            "\n",
            "append(self, object, /) unbound builtins.list method\n",
            "    Append object to the end of the list.\n",
            "\n"
          ]
        }
      ]
    },
    {
      "cell_type": "code",
      "source": [
        "help(str.upper)"
      ],
      "metadata": {
        "colab": {
          "base_uri": "https://localhost:8080/"
        },
        "id": "Dh-7q0fmnZQC",
        "outputId": "73c736f6-04da-4581-9f2e-426d5d4e03a8"
      },
      "id": "Dh-7q0fmnZQC",
      "execution_count": 19,
      "outputs": [
        {
          "output_type": "stream",
          "name": "stdout",
          "text": [
            "Help on method_descriptor:\n",
            "\n",
            "upper(self, /) unbound builtins.str method\n",
            "    Return a copy of the string converted to uppercase.\n",
            "\n"
          ]
        }
      ]
    },
    {
      "cell_type": "markdown",
      "metadata": {
        "id": "lCW8P1qxkalW"
      },
      "source": [
        "## 4. Tab Completion"
      ],
      "id": "lCW8P1qxkalW"
    },
    {
      "cell_type": "markdown",
      "metadata": {
        "id": "xk_Y44gKkalW"
      },
      "source": [
        "In a Jupyter cell, type an object name followed by a dot and press `Tab` to see available methods.\n",
        "\n",
        "Example:\n",
        "```python\n",
        "mylist = []\n",
        "mylist.<TAB>\n",
        "```\n",
        "will show you all methods like `append`, `clear`, `copy`, etc."
      ],
      "id": "xk_Y44gKkalW"
    },
    {
      "cell_type": "markdown",
      "metadata": {
        "id": "1DbtjV7QkalW"
      },
      "source": [
        "✅ **Your Turn**: Create a dictionary and use tab completion to explore its methods."
      ],
      "id": "1DbtjV7QkalW"
    },
    {
      "cell_type": "code",
      "source": [
        "my_dict = {\n",
        "    \"name\": \"Nicole\",\n",
        "    \"age\": 20,\n",
        "    \"is_student\": True\n",
        "}\n",
        "\n",
        "my_dict.clear\n",
        "my_dict.copy\n",
        "my_dict.fromkeys\n",
        "my_dict.get\n",
        "my_dict.items\n",
        "my_dict.keys\n",
        "my_dict.pop\n",
        "my_dict.popitem\n",
        "my_dict.setdefault\n",
        "my_dict.update\n",
        "my_dict.values"
      ],
      "metadata": {
        "id": "3D-PvsMqne8P"
      },
      "id": "3D-PvsMqne8P",
      "execution_count": null,
      "outputs": []
    },
    {
      "cell_type": "markdown",
      "metadata": {
        "id": "bStzcCXskalW"
      },
      "source": [
        "## 5. External Documentation"
      ],
      "id": "bStzcCXskalW"
    },
    {
      "cell_type": "markdown",
      "metadata": {
        "id": "TU2uQ5mDkalW"
      },
      "source": [
        "- Many libraries (like Pandas, NumPy, Matplotlib) have excellent online docs.\n",
        "- Example: [https://pandas.pydata.org/docs/](https://pandas.pydata.org/docs/)\n",
        "- You can Google: `pandas read_csv site:pandas.pydata.org`"
      ],
      "id": "TU2uQ5mDkalW"
    },
    {
      "cell_type": "markdown",
      "metadata": {
        "id": "x4F_nVbnkalW"
      },
      "source": [
        "✅ **Your Turn**: Look up the official documentation for Matplotlib’s `plt.plot` online."
      ],
      "id": "x4F_nVbnkalW"
    },
    {
      "cell_type": "markdown",
      "source": [
        "https://matplotlib.org/\n",
        "\n"
      ],
      "metadata": {
        "id": "SixJ6A_zqOH3"
      },
      "id": "SixJ6A_zqOH3"
    },
    {
      "cell_type": "markdown",
      "metadata": {
        "id": "6E3vTsU-kalW"
      },
      "source": [
        "---\n",
        "### Summary\n",
        "- `?` gives quick documentation.\n",
        "- `??` shows source if available.\n",
        "- `help()` is Python’s built-in way.\n",
        "- Tab completion speeds up discovery.\n",
        "- External docs are your best friend for deeper dives.\n"
      ],
      "id": "6E3vTsU-kalW"
    }
  ],
  "metadata": {
    "kernelspec": {
      "display_name": "Python 3",
      "language": "python",
      "name": "python3"
    },
    "language_info": {
      "name": "python",
      "version": "3.x"
    },
    "colab": {
      "provenance": [],
      "include_colab_link": true
    }
  },
  "nbformat": 4,
  "nbformat_minor": 5
}