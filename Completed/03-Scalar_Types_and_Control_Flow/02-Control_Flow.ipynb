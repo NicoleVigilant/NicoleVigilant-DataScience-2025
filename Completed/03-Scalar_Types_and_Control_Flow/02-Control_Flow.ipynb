{
  "cells": [
    {
      "cell_type": "markdown",
      "metadata": {
        "id": "view-in-github",
        "colab_type": "text"
      },
      "source": [
        "<a href=\"https://colab.research.google.com/github/NicoleVigilant/NicoleVigilant-DataScience-2025/blob/main/Completed/03-Scalar_Types_and_Control_Flow/02-Control_Flow.ipynb\" target=\"_parent\"><img src=\"https://colab.research.google.com/assets/colab-badge.svg\" alt=\"Open In Colab\"/></a>"
      ]
    },
    {
      "cell_type": "markdown",
      "id": "d691fc24",
      "metadata": {
        "id": "d691fc24"
      },
      "source": [
        "# 📘 02 - Control Flow\n",
        "\n",
        "Learn how to use conditional logic in Python."
      ]
    },
    {
      "cell_type": "markdown",
      "id": "07e43ba3",
      "metadata": {
        "id": "07e43ba3"
      },
      "source": [
        "## ✅ Learning Goals\n",
        "- Write `if`, `elif`, `else` statements\n",
        "- Understand truthy/falsy values\n",
        "- Combine conditions using `and`, `or`, `not`"
      ]
    },
    {
      "cell_type": "code",
      "execution_count": 1,
      "id": "3c8cac6d",
      "metadata": {
        "id": "3c8cac6d",
        "outputId": "a8a8a8d1-00ab-452f-c006-ae8458bae1d5",
        "colab": {
          "base_uri": "https://localhost:8080/"
        }
      },
      "outputs": [
        {
          "output_type": "stream",
          "name": "stdout",
          "text": [
            "You are an adult.\n"
          ]
        }
      ],
      "source": [
        "# 🔧 Basic example\n",
        "age = 20\n",
        "if age >= 18:\n",
        "    print('You are an adult.')\n",
        "else:\n",
        "    print('You are a minor.')"
      ]
    },
    {
      "cell_type": "markdown",
      "id": "ae0d2437",
      "metadata": {
        "id": "ae0d2437"
      },
      "source": [
        "## 🔀 Multiple Branches"
      ]
    },
    {
      "cell_type": "code",
      "execution_count": 2,
      "id": "e2527038",
      "metadata": {
        "id": "e2527038",
        "outputId": "1344398c-6e15-4934-ede3-a3e3ae885e66",
        "colab": {
          "base_uri": "https://localhost:8080/"
        }
      },
      "outputs": [
        {
          "output_type": "stream",
          "name": "stdout",
          "text": [
            "Just right.\n"
          ]
        }
      ],
      "source": [
        "temp = 72\n",
        "if temp > 90:\n",
        "    print('Too hot!')\n",
        "elif temp < 60:\n",
        "    print('Too cold!')\n",
        "else:\n",
        "    print('Just right.')"
      ]
    },
    {
      "cell_type": "markdown",
      "id": "b2aa7088",
      "metadata": {
        "id": "b2aa7088"
      },
      "source": [
        "### ✏️ Your Turn\n",
        "Use `input()` to ask a user their grade and print a message based on value."
      ]
    },
    {
      "cell_type": "code",
      "execution_count": 6,
      "id": "f096a974",
      "metadata": {
        "id": "f096a974"
      },
      "outputs": [],
      "source": [
        "# Example:\n",
        "# grade = int(input('Enter your score: '))\n",
        "# if grade >= 90:\n",
        "#     print('A')\n",
        "# elif grade >= 80:\n",
        "#     print('B')\n",
        "# ..."
      ]
    },
    {
      "cell_type": "code",
      "source": [
        "grade = int(input('Enter your score: '))\n",
        "if grade >= 90:\n",
        "  print ('A')\n",
        "elif grade>= 80:\n",
        "  print ('B')\n",
        "elif grade >=70:\n",
        "  print ('C')\n",
        "elif grade >=60:\n",
        "  print('D')\n",
        "else:\n",
        "  print('F')\n"
      ],
      "metadata": {
        "id": "FsOfw-MatBv_",
        "outputId": "ff6a4ba9-f66f-4707-b768-30e9f63118ab",
        "colab": {
          "base_uri": "https://localhost:8080/"
        }
      },
      "id": "FsOfw-MatBv_",
      "execution_count": 5,
      "outputs": [
        {
          "output_type": "stream",
          "name": "stdout",
          "text": [
            "Enter your score: 73\n",
            "C\n"
          ]
        }
      ]
    }
  ],
  "metadata": {
    "colab": {
      "provenance": [],
      "include_colab_link": true
    },
    "language_info": {
      "name": "python"
    },
    "kernelspec": {
      "name": "python3",
      "display_name": "Python 3"
    }
  },
  "nbformat": 4,
  "nbformat_minor": 5
}