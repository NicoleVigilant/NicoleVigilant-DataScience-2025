{
  "cells": [
    {
      "cell_type": "markdown",
      "metadata": {
        "id": "view-in-github",
        "colab_type": "text"
      },
      "source": [
        "<a href=\"https://colab.research.google.com/github/NicoleVigilant/NicoleVigilant-DataScience-2025/blob/main/Completed/03-Scalar_Types_and_Control_Flow/01-Scalar_Types.ipynb\" target=\"_parent\"><img src=\"https://colab.research.google.com/assets/colab-badge.svg\" alt=\"Open In Colab\"/></a>"
      ]
    },
    {
      "cell_type": "markdown",
      "id": "c224876d",
      "metadata": {
        "id": "c224876d"
      },
      "source": [
        "# 📘 01 - Scalar Types\n",
        "\n",
        "Review and practice working with Python's basic scalar data types."
      ]
    },
    {
      "cell_type": "markdown",
      "id": "39c1942a",
      "metadata": {
        "id": "39c1942a"
      },
      "source": [
        "## ✅ Learning Goals\n",
        "- Recognize scalar types (`int`, `float`, `str`, `bool`)\n",
        "- Use the `type()` function to identify types\n",
        "- Use variables and assignment"
      ]
    },
    {
      "cell_type": "code",
      "execution_count": 2,
      "id": "0cf15b63",
      "metadata": {
        "id": "0cf15b63"
      },
      "outputs": [],
      "source": [
        "# 🔧 Define some variables\n",
        "num = 42\n",
        "pi = 3.14159\n",
        "name = 'Python'\n",
        "is_cool = True"
      ]
    },
    {
      "cell_type": "code",
      "execution_count": 3,
      "id": "7c8e8452",
      "metadata": {
        "id": "7c8e8452",
        "outputId": "88bad722-9326-4c3f-a0e0-57ae89294ac0",
        "colab": {
          "base_uri": "https://localhost:8080/"
        }
      },
      "outputs": [
        {
          "output_type": "stream",
          "name": "stdout",
          "text": [
            "<class 'int'>\n",
            "<class 'float'>\n",
            "<class 'str'>\n",
            "<class 'bool'>\n"
          ]
        }
      ],
      "source": [
        "# 🔍 Check their types\n",
        "print(type(num))\n",
        "print(type(pi))\n",
        "print(type(name))\n",
        "print(type(is_cool))"
      ]
    },
    {
      "cell_type": "markdown",
      "id": "2c345a8b",
      "metadata": {
        "id": "2c345a8b"
      },
      "source": [
        "### ✏️ Your Turn\n",
        "Create your own variables of each type and print them."
      ]
    },
    {
      "cell_type": "code",
      "execution_count": 10,
      "id": "038b4f44",
      "metadata": {
        "id": "038b4f44"
      },
      "outputs": [],
      "source": [
        "num = 17\n",
        "name = 'Beyonce'\n",
        "female_gender = True\n",
        "weight = 145.5"
      ]
    },
    {
      "cell_type": "code",
      "source": [
        "# Checking their types\n",
        "print(type(num))\n",
        "print(type(name))\n",
        "print(type(female_gender))\n",
        "print(type(weight))"
      ],
      "metadata": {
        "id": "zbtlek2qqYAs",
        "outputId": "8ea16c9a-8cd9-4246-a20b-f5414ffcbe32",
        "colab": {
          "base_uri": "https://localhost:8080/"
        }
      },
      "id": "zbtlek2qqYAs",
      "execution_count": 11,
      "outputs": [
        {
          "output_type": "stream",
          "name": "stdout",
          "text": [
            "<class 'int'>\n",
            "<class 'str'>\n",
            "<class 'bool'>\n",
            "<class 'float'>\n"
          ]
        }
      ]
    },
    {
      "cell_type": "markdown",
      "id": "f02be606",
      "metadata": {
        "id": "f02be606"
      },
      "source": [
        "## ⚖️ Comparison Practice\n",
        "Use comparison operators to check values."
      ]
    },
    {
      "cell_type": "code",
      "execution_count": 12,
      "id": "9bf84dc7",
      "metadata": {
        "id": "9bf84dc7",
        "outputId": "a434ca81-fb5c-43e3-9369-80ced8032b6e",
        "colab": {
          "base_uri": "https://localhost:8080/"
        }
      },
      "outputs": [
        {
          "output_type": "stream",
          "name": "stdout",
          "text": [
            "True\n",
            "False\n",
            "True\n"
          ]
        }
      ],
      "source": [
        "x = 10\n",
        "y = 5\n",
        "print(x > y)\n",
        "print(x == y)\n",
        "print(x != y)"
      ]
    },
    {
      "cell_type": "markdown",
      "id": "789b6f3d",
      "metadata": {
        "id": "789b6f3d"
      },
      "source": [
        "## 🧠 Quick Check\n",
        "What will the following print?\n",
        "```python\n",
        "print(3.0 == 3)\n",
        "```"
      ]
    },
    {
      "cell_type": "markdown",
      "source": [
        "It will print true since its comparing two numbers\n"
      ],
      "metadata": {
        "id": "20hEEULIrZUy"
      },
      "id": "20hEEULIrZUy"
    }
  ],
  "metadata": {
    "colab": {
      "provenance": [],
      "include_colab_link": true
    },
    "language_info": {
      "name": "python"
    },
    "kernelspec": {
      "name": "python3",
      "display_name": "Python 3"
    }
  },
  "nbformat": 4,
  "nbformat_minor": 5
}