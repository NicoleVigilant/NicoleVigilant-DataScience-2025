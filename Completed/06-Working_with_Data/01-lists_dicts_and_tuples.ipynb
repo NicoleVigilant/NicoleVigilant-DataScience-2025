{
  "cells": [
    {
      "cell_type": "markdown",
      "metadata": {
        "id": "view-in-github",
        "colab_type": "text"
      },
      "source": [
        "<a href=\"https://colab.research.google.com/github/NicoleVigilant/NicoleVigilant-DataScience-2025/blob/main/Completed/06-Working_with_Data/01-lists_dicts_and_tuples.ipynb\" target=\"_parent\"><img src=\"https://colab.research.google.com/assets/colab-badge.svg\" alt=\"Open In Colab\"/></a>"
      ]
    },
    {
      "cell_type": "markdown",
      "metadata": {
        "id": "QkmFiZAsl4OW"
      },
      "source": [
        "# 🧠 Notebook 01: Lists, Dicts, Tuples, and Sets (Oh My!)\n",
        "\n",
        "Welcome, data tamer. Before we dance with DataFrames and juggle Series, we must revisit the sacred scrolls of Python's core data structures.\n",
        "\n",
        "In this notebook, you will:\n",
        "- Recap the mighty `list`, `dict`, `tuple`, and `set`\n",
        "- Learn what makes each special (besides being annoying to explain at parties)\n",
        "- Practice slicing, accessing, and modifying them\n",
        "- Build up intuition for working with structured data\n",
        "\n",
        "---"
      ]
    },
    {
      "cell_type": "markdown",
      "metadata": {
        "id": "wx_2FyUkl4OX"
      },
      "source": [
        "## 🧺 Lists\n",
        "`list`: Ordered, mutable, and basically the cargo pants of Python."
      ]
    },
    {
      "cell_type": "code",
      "execution_count": 1,
      "metadata": {
        "colab": {
          "base_uri": "https://localhost:8080/"
        },
        "id": "Xdy0n-iDl4OX",
        "outputId": "d959f82d-74bb-498e-fe14-18361a63c9b0"
      },
      "outputs": [
        {
          "output_type": "stream",
          "name": "stdout",
          "text": [
            "First fruit: apple\n",
            "Last fruit: dragonfruit\n",
            "Updated list: ['apple', 'banana', 'cherry', 'dragonfruit', 'elderberry']\n"
          ]
        }
      ],
      "source": [
        "fruits = [\"apple\", \"banana\", \"cherry\", \"dragonfruit\"]\n",
        "print(\"First fruit:\", fruits[0])\n",
        "print(\"Last fruit:\", fruits[-1])\n",
        "\n",
        "fruits.append(\"elderberry\")\n",
        "print(\"Updated list:\", fruits)"
      ]
    },
    {
      "cell_type": "markdown",
      "metadata": {
        "id": "UitpKeBAl4OY"
      },
      "source": [
        "## 🔐 Tuples\n",
        "`tuple`: Like lists, but committed — they don’t change. Perfect for fixed data."
      ]
    },
    {
      "cell_type": "code",
      "execution_count": 2,
      "metadata": {
        "colab": {
          "base_uri": "https://localhost:8080/"
        },
        "id": "BJM2v1sbl4OY",
        "outputId": "42c0e23d-25ee-4155-d746-5783269100c8"
      },
      "outputs": [
        {
          "output_type": "stream",
          "name": "stdout",
          "text": [
            "Coordinates: (34.05, -118.25)\n"
          ]
        }
      ],
      "source": [
        "coordinates = (34.05, -118.25)  # Latitude, Longitude\n",
        "print(\"Coordinates:\", coordinates)\n",
        "\n",
        "# Uncomment this to see Python throw a tantrum\n",
        "# coordinates[0] = 0"
      ]
    },
    {
      "cell_type": "markdown",
      "metadata": {
        "id": "pEdwo4m1l4OY"
      },
      "source": [
        "## 📦 Dictionaries\n",
        "`dict`: Key-value pairs. Like JSON, but with fewer quotation marks and more sarcasm."
      ]
    },
    {
      "cell_type": "code",
      "execution_count": 3,
      "metadata": {
        "colab": {
          "base_uri": "https://localhost:8080/"
        },
        "id": "hTC1FTOll4OY",
        "outputId": "11c941e9-f5d4-4860-c06f-46d268e27ecf"
      },
      "outputs": [
        {
          "output_type": "stream",
          "name": "stdout",
          "text": [
            "Student name: Alice\n",
            "GPA using .get(): 3.9\n",
            "Updated dictionary: {'name': 'Alice', 'GPA': 3.9, 'major': 'Data Science', 'minor': 'Philosophy'}\n"
          ]
        }
      ],
      "source": [
        "student = {\n",
        "    \"name\": \"Alice\",\n",
        "    \"GPA\": 3.9,\n",
        "    \"major\": \"Data Science\"\n",
        "}\n",
        "\n",
        "print(\"Student name:\", student[\"name\"])\n",
        "print(\"GPA using .get():\", student.get(\"GPA\"))\n",
        "\n",
        "student[\"minor\"] = \"Philosophy\"\n",
        "print(\"Updated dictionary:\", student)"
      ]
    },
    {
      "cell_type": "markdown",
      "metadata": {
        "id": "cHOYrR3fl4OY"
      },
      "source": [
        "## 🎯 Sets\n",
        "`set`: Unordered, unique values only. Great for removing duplicates or doing cool mathy stuff."
      ]
    },
    {
      "cell_type": "code",
      "execution_count": 4,
      "metadata": {
        "colab": {
          "base_uri": "https://localhost:8080/"
        },
        "id": "gzt4ELyal4OZ",
        "outputId": "2711301a-f8ad-48c1-f60f-1cb4e2d70177"
      },
      "outputs": [
        {
          "output_type": "stream",
          "name": "stdout",
          "text": [
            "Courses: {'CS101', 'CS102', 'CS103'}\n",
            "Is CS102 in the set? True\n",
            "Modified courses: {'CS102', 'CS103', 'CS104'}\n"
          ]
        }
      ],
      "source": [
        "courses = {\"CS101\", \"CS102\", \"CS103\", \"CS101\"}  # Duplicate ignored\n",
        "print(\"Courses:\", courses)\n",
        "\n",
        "print(\"Is CS102 in the set?\", \"CS102\" in courses)\n",
        "\n",
        "courses.add(\"CS104\")\n",
        "courses.discard(\"CS101\")\n",
        "print(\"Modified courses:\", courses)"
      ]
    },
    {
      "cell_type": "markdown",
      "metadata": {
        "id": "fGaVhfeVl4OZ"
      },
      "source": [
        "---\n",
        "## 🧰 Your Turn\n",
        "\n",
        "1. Create a list of your top 5 favorite foods. Print the last item using a negative index.\n",
        "2. Create a dictionary that maps student names to GPA (be kind). Add a new student.\n",
        "3. Make a tuple of the days of the week. Try to change one. Document what happens.\n",
        "4. Create a `set` of course names. Add a duplicate. Reflect on how sets feel about duplicates.\n",
        "\n",
        "🎯 **Bonus**: Use a list comprehension to build a list of all squares from 1–20."
      ]
    },
    {
      "cell_type": "code",
      "execution_count": 6,
      "metadata": {
        "colab": {
          "base_uri": "https://localhost:8080/",
          "height": 228
        },
        "id": "DACb4pszl4OZ",
        "outputId": "7252b8a2-a626-493a-ce86-1e5ac44a02a6"
      },
      "outputs": [
        {
          "output_type": "stream",
          "name": "stdout",
          "text": [
            "Burgers\n",
            "{'Nicole': 3.9, 'Ethan': 3.7, 'Ava': 4.0, 'Liam': 3.8}\n",
            "('Monday', 'Tuesday', 'Wednesday', 'Thursday', 'Friday', 'Saturday', 'Sunday')\n"
          ]
        },
        {
          "output_type": "error",
          "ename": "TypeError",
          "evalue": "'tuple' object does not support item assignment",
          "traceback": [
            "\u001b[0;31m---------------------------------------------------------------------------\u001b[0m",
            "\u001b[0;31mTypeError\u001b[0m                                 Traceback (most recent call last)",
            "\u001b[0;32m/tmp/ipython-input-3814050547.py\u001b[0m in \u001b[0;36m<cell line: 0>\u001b[0;34m()\u001b[0m\n\u001b[1;32m     16\u001b[0m \u001b[0mdays\u001b[0m \u001b[0;34m=\u001b[0m \u001b[0;34m(\u001b[0m\u001b[0;34m\"Monday\"\u001b[0m\u001b[0;34m,\u001b[0m \u001b[0;34m\"Tuesday\"\u001b[0m\u001b[0;34m,\u001b[0m \u001b[0;34m\"Wednesday\"\u001b[0m\u001b[0;34m,\u001b[0m \u001b[0;34m\"Thursday\"\u001b[0m\u001b[0;34m,\u001b[0m \u001b[0;34m\"Friday\"\u001b[0m\u001b[0;34m,\u001b[0m \u001b[0;34m\"Saturday\"\u001b[0m\u001b[0;34m,\u001b[0m \u001b[0;34m\"Sunday\"\u001b[0m\u001b[0;34m)\u001b[0m\u001b[0;34m\u001b[0m\u001b[0;34m\u001b[0m\u001b[0m\n\u001b[1;32m     17\u001b[0m \u001b[0mprint\u001b[0m\u001b[0;34m(\u001b[0m\u001b[0mdays\u001b[0m\u001b[0;34m)\u001b[0m\u001b[0;34m\u001b[0m\u001b[0;34m\u001b[0m\u001b[0m\n\u001b[0;32m---> 18\u001b[0;31m \u001b[0mdays\u001b[0m\u001b[0;34m[\u001b[0m\u001b[0;36m0\u001b[0m\u001b[0;34m]\u001b[0m \u001b[0;34m=\u001b[0m \u001b[0;34m\"Rainday\"\u001b[0m\u001b[0;34m\u001b[0m\u001b[0;34m\u001b[0m\u001b[0m\n\u001b[0m",
            "\u001b[0;31mTypeError\u001b[0m: 'tuple' object does not support item assignment"
          ]
        }
      ],
      "source": [
        "# Your brilliant code goes here!\n",
        "#list of my favourite foods\n",
        "food = [ \"Tacos\", \"Pasta\", \"Quesadillas\", \"Wings\", \"Burgers\"]\n",
        "print(food[-1])\n",
        "\n",
        "#Dictionary that maps student names to GPA\n",
        "students = {\n",
        "    \"Nicole\": 3.9,\n",
        "    \"Ethan\": 3.7,\n",
        "    \"Ava\": 4.0\n",
        "}\n",
        "students[\"Liam\"] = 3.8   # add a new student\n",
        "print(students)\n",
        "\n",
        "#Tuple of the days of the week\n",
        "days = (\"Monday\", \"Tuesday\", \"Wednesday\", \"Thursday\", \"Friday\", \"Saturday\", \"Sunday\")\n",
        "print(days)\n",
        "days[0] = \"Rainday\"\n"
      ]
    },
    {
      "cell_type": "code",
      "source": [
        "#Set of course names\n",
        "courses = {\"Calculus\", \"Biology\", \"Computer Science\", \"Public Health\"}\n",
        "courses.add(\"Biology\")   # adding a duplicate\n",
        "print(courses)\n",
        "\n",
        "squares = [x**2 for x in range(1, 21)]\n",
        "print(squares)"
      ],
      "metadata": {
        "colab": {
          "base_uri": "https://localhost:8080/"
        },
        "id": "AuMec72woBPO",
        "outputId": "e3dd5407-14f1-435c-920a-fe7d0ccf359e"
      },
      "execution_count": 7,
      "outputs": [
        {
          "output_type": "stream",
          "name": "stdout",
          "text": [
            "{'Biology', 'Public Health', 'Computer Science', 'Calculus'}\n",
            "[1, 4, 9, 16, 25, 36, 49, 64, 81, 100, 121, 144, 169, 196, 225, 256, 289, 324, 361, 400]\n"
          ]
        }
      ]
    },
    {
      "cell_type": "markdown",
      "metadata": {
        "id": "TNzlKmIil4OZ"
      },
      "source": [
        "---\n",
        "## 🧼 Why This Matters\n",
        "\n",
        "Before we start feeding `.csv` files into Pandas like a malfunctioning vending machine, we need to truly *feel* how data is structured. These built-in types help shape, store, and manipulate everything we’ll touch from here on.\n",
        "\n",
        "Next up? Pandas `Series` and `DataFrames`. Buckle up."
      ]
    }
  ],
  "metadata": {
    "kernelspec": {
      "display_name": "Python 3",
      "language": "python",
      "name": "python3"
    },
    "language_info": {
      "name": "python",
      "version": ""
    },
    "colab": {
      "provenance": [],
      "include_colab_link": true
    }
  },
  "nbformat": 4,
  "nbformat_minor": 0
}