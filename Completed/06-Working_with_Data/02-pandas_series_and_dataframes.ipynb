{
  "cells": [
    {
      "cell_type": "markdown",
      "metadata": {
        "id": "view-in-github",
        "colab_type": "text"
      },
      "source": [
        "<a href=\"https://colab.research.google.com/github/NicoleVigilant/NicoleVigilant-DataScience-2025/blob/main/Completed/06-Working_with_Data/02-pandas_series_and_dataframes.ipynb\" target=\"_parent\"><img src=\"https://colab.research.google.com/assets/colab-badge.svg\" alt=\"Open In Colab\"/></a>"
      ]
    },
    {
      "cell_type": "markdown",
      "metadata": {
        "id": "1RjltHvoqpFk"
      },
      "source": [
        "# 🐼 Notebook 02: Pandas Series and DataFrames\n",
        "\n",
        "Congratulations. You've graduated from lists and dictionaries — it’s time to wield a more powerful tool: **Pandas**.\n",
        "\n",
        "This notebook introduces you to the two most essential data structures in data science:\n",
        "\n",
        "- `Series`: a one-dimensional labeled array (like a dictionary and list had a well-organized child)\n",
        "- `DataFrame`: a two-dimensional table with labeled axes (basically Excel’s smarter cousin)\n",
        "\n",
        "---"
      ]
    },
    {
      "cell_type": "code",
      "execution_count": 1,
      "metadata": {
        "id": "pbprGGcrqpFl"
      },
      "outputs": [],
      "source": [
        "import pandas as pd"
      ]
    },
    {
      "cell_type": "markdown",
      "metadata": {
        "id": "1oJE9BuXqpFm"
      },
      "source": [
        "## 🔢 Series from a List\n",
        "Simple but powerful — labels give it superpowers."
      ]
    },
    {
      "cell_type": "code",
      "execution_count": 2,
      "metadata": {
        "id": "kSzwwI6IqpFm",
        "outputId": "05f79c36-d809-433e-8299-c1defaedecee",
        "colab": {
          "base_uri": "https://localhost:8080/"
        }
      },
      "outputs": [
        {
          "output_type": "stream",
          "name": "stdout",
          "text": [
            "Grocery Prices:\n",
            "Apple    2.99\n",
            "Milk     4.49\n",
            "Bread    1.99\n",
            "dtype: float64\n",
            "\n",
            "Price of Milk: 4.49\n"
          ]
        }
      ],
      "source": [
        "# A Series from a list — just like a list, but fancier and labeled\n",
        "prices = pd.Series([2.99, 4.49, 1.99], index=[\"Apple\", \"Milk\", \"Bread\"])\n",
        "print(\"Grocery Prices:\")\n",
        "print(prices)\n",
        "\n",
        "# Accessing elements like a dictionary\n",
        "print(\"\\nPrice of Milk:\", prices[\"Milk\"])"
      ]
    },
    {
      "cell_type": "markdown",
      "metadata": {
        "id": "iWT6ZeUEqpFm"
      },
      "source": [
        "## 🗺️ Series from a Dictionary\n",
        "Keys become the index — pretty intuitive, right?"
      ]
    },
    {
      "cell_type": "code",
      "execution_count": 3,
      "metadata": {
        "id": "whyVSbn4qpFn",
        "outputId": "c4c0b008-333f-401b-858e-a7f07011bb9a",
        "colab": {
          "base_uri": "https://localhost:8080/"
        }
      },
      "outputs": [
        {
          "output_type": "stream",
          "name": "stdout",
          "text": [
            "State Populations:\n",
            "Texas         29000000\n",
            "California    39000000\n",
            "New York      19000000\n",
            "dtype: int64\n",
            "\n",
            "Population in millions:\n",
            "Texas         29.0\n",
            "California    39.0\n",
            "New York      19.0\n",
            "dtype: float64\n"
          ]
        }
      ],
      "source": [
        "population = {\n",
        "    \"Texas\": 29_000_000,\n",
        "    \"California\": 39_000_000,\n",
        "    \"New York\": 19_000_000\n",
        "}\n",
        "\n",
        "state_pop = pd.Series(population)\n",
        "print(\"State Populations:\")\n",
        "print(state_pop)\n",
        "\n",
        "# Series support math!\n",
        "print(\"\\nPopulation in millions:\")\n",
        "print(state_pop / 1_000_000)"
      ]
    },
    {
      "cell_type": "markdown",
      "metadata": {
        "id": "rqT37y8bqpFo"
      },
      "source": [
        "## 📋 Creating a DataFrame\n",
        "Like a spreadsheet, but you control the universe."
      ]
    },
    {
      "cell_type": "code",
      "execution_count": 4,
      "metadata": {
        "id": "A5lcsS5RqpFp",
        "outputId": "f91ecc7e-dd22-4c56-87a5-966687799b25",
        "colab": {
          "base_uri": "https://localhost:8080/"
        }
      },
      "outputs": [
        {
          "output_type": "stream",
          "name": "stdout",
          "text": [
            "Student DataFrame:\n",
            "      Name  GPA  Credits  Graduating\n",
            "0    Alice  3.9       90       False\n",
            "1      Bob  2.7       45       False\n",
            "2  Charlie  3.4       60       False\n",
            "3    Diana  3.8      120        True\n"
          ]
        }
      ],
      "source": [
        "# Creating a DataFrame — the bread and butter of Pandas\n",
        "data = {\n",
        "    \"Name\": [\"Alice\", \"Bob\", \"Charlie\", \"Diana\"],\n",
        "    \"GPA\": [3.9, 2.7, 3.4, 3.8],\n",
        "    \"Credits\": [90, 45, 60, 120],\n",
        "    \"Graduating\": [False, False, False, True]\n",
        "}\n",
        "\n",
        "students = pd.DataFrame(data)\n",
        "print(\"Student DataFrame:\")\n",
        "print(students)"
      ]
    },
    {
      "cell_type": "markdown",
      "metadata": {
        "id": "JUeU7zuZqpFp"
      },
      "source": [
        "## 🎯 Column Access + Row Access"
      ]
    },
    {
      "cell_type": "code",
      "execution_count": 5,
      "metadata": {
        "id": "QaNXwg7rqpFp",
        "outputId": "82e2908d-91c9-46c8-dc64-3aee1240e599",
        "colab": {
          "base_uri": "https://localhost:8080/"
        }
      },
      "outputs": [
        {
          "output_type": "stream",
          "name": "stdout",
          "text": [
            "\n",
            "GPA column:\n",
            "0    3.9\n",
            "1    2.7\n",
            "2    3.4\n",
            "3    3.8\n",
            "Name: GPA, dtype: float64\n",
            "\n",
            "Charlie's record:\n",
            "Name          Charlie\n",
            "GPA               3.4\n",
            "Credits            60\n",
            "Graduating      False\n",
            "Name: 2, dtype: object\n"
          ]
        }
      ],
      "source": [
        "# Access a column\n",
        "print(\"\\nGPA column:\")\n",
        "print(students[\"GPA\"])\n",
        "\n",
        "# Access a row\n",
        "print(\"\\nCharlie's record:\")\n",
        "print(students.loc[2])"
      ]
    },
    {
      "cell_type": "markdown",
      "metadata": {
        "id": "fauF9XltqpFp"
      },
      "source": [
        "## 🧪 Inspect the DataFrame"
      ]
    },
    {
      "cell_type": "code",
      "execution_count": 6,
      "metadata": {
        "id": "_elRVD-1qpFp",
        "outputId": "a792308e-2788-4b77-8aac-f8d2b0184096",
        "colab": {
          "base_uri": "https://localhost:8080/"
        }
      },
      "outputs": [
        {
          "output_type": "stream",
          "name": "stdout",
          "text": [
            "\n",
            "Shape: (4, 4)\n",
            "\n",
            "Columns: ['Name', 'GPA', 'Credits', 'Graduating']\n",
            "\n",
            "DataFrame Info:\n",
            "<class 'pandas.core.frame.DataFrame'>\n",
            "RangeIndex: 4 entries, 0 to 3\n",
            "Data columns (total 4 columns):\n",
            " #   Column      Non-Null Count  Dtype  \n",
            "---  ------      --------------  -----  \n",
            " 0   Name        4 non-null      object \n",
            " 1   GPA         4 non-null      float64\n",
            " 2   Credits     4 non-null      int64  \n",
            " 3   Graduating  4 non-null      bool   \n",
            "dtypes: bool(1), float64(1), int64(1), object(1)\n",
            "memory usage: 232.0+ bytes\n",
            "None\n",
            "\n",
            "DataFrame Summary Stats:\n",
            "            GPA     Credits\n",
            "count  4.000000    4.000000\n",
            "mean   3.450000   78.750000\n",
            "std    0.544671   33.260337\n",
            "min    2.700000   45.000000\n",
            "25%    3.225000   56.250000\n",
            "50%    3.600000   75.000000\n",
            "75%    3.825000   97.500000\n",
            "max    3.900000  120.000000\n"
          ]
        }
      ],
      "source": [
        "# Shape and structure\n",
        "print(\"\\nShape:\", students.shape)\n",
        "print(\"\\nColumns:\", students.columns.tolist())\n",
        "\n",
        "# Info dump\n",
        "print(\"\\nDataFrame Info:\")\n",
        "print(students.info())\n",
        "\n",
        "# Stats summary\n",
        "print(\"\\nDataFrame Summary Stats:\")\n",
        "print(students.describe())"
      ]
    },
    {
      "cell_type": "markdown",
      "metadata": {
        "id": "CfuolpQLqpFp"
      },
      "source": [
        "## 🧼 Rename a Column"
      ]
    },
    {
      "cell_type": "code",
      "execution_count": 7,
      "metadata": {
        "id": "0fr2SRuBqpFp",
        "outputId": "88dbfc91-d915-4a3a-b395-1fcee8e7f1ba",
        "colab": {
          "base_uri": "https://localhost:8080/"
        }
      },
      "outputs": [
        {
          "output_type": "stream",
          "name": "stdout",
          "text": [
            "\n",
            "Renamed column:\n",
            "      Name  GPA  Credits  Is_Graduating\n",
            "0    Alice  3.9       90          False\n",
            "1      Bob  2.7       45          False\n",
            "2  Charlie  3.4       60          False\n",
            "3    Diana  3.8      120           True\n"
          ]
        }
      ],
      "source": [
        "students.rename(columns={\"Graduating\": \"Is_Graduating\"}, inplace=True)\n",
        "print(\"\\nRenamed column:\")\n",
        "print(students.head())"
      ]
    },
    {
      "cell_type": "markdown",
      "metadata": {
        "id": "JxA7DJyAqpFp"
      },
      "source": [
        "---\n",
        "## 🔍 Your Turn\n",
        "\n",
        "1. Create a `Series` from a dictionary of state abbreviations to population (use fake or real data).\n",
        "2. Create a `DataFrame` for 5 students with columns: `Name`, `GPA`, `Credits`, `Graduating` (True/False).\n",
        "3. Try accessing a row using `.loc[]` and a column using bracket notation.\n",
        "4. Print the `.shape`, `.columns`, and `.info()` of your DataFrame.\n",
        "\n",
        "🎯 Bonus: Rename a column just to mess with the future grader."
      ]
    },
    {
      "cell_type": "code",
      "execution_count": 8,
      "metadata": {
        "id": "w1rCSMK_qpFq",
        "outputId": "9806d544-615b-41c4-a933-94844703ab8e",
        "colab": {
          "base_uri": "https://localhost:8080/"
        }
      },
      "outputs": [
        {
          "output_type": "stream",
          "name": "stdout",
          "text": [
            "TX    29.5\n",
            "CA    39.2\n",
            "FL    21.8\n",
            "NY    19.5\n",
            "IL    12.8\n",
            "dtype: float64\n"
          ]
        }
      ],
      "source": [
        "# Your data science destiny begins here.\n",
        "\n",
        "# Dictionary of state abbreviations to population (in millions)\n",
        "state_pop = {\n",
        "    \"TX\": 29.5,\n",
        "    \"CA\": 39.2,\n",
        "    \"FL\": 21.8,\n",
        "    \"NY\": 19.5,\n",
        "    \"IL\": 12.8\n",
        "}\n",
        "\n",
        "pop_series = pd.Series(state_pop)\n",
        "print(pop_series)\n"
      ]
    },
    {
      "cell_type": "code",
      "source": [
        "data = {\n",
        "    \"Name\": [\"Nicole\", \"Ethan\", \"Ava\", \"Liam\", \"Sophia\"],\n",
        "    \"GPA\": [3.9, 3.6, 3.8, 3.4, 4.0],\n",
        "    \"Credits\": [120, 98, 110, 85, 130],\n",
        "    \"Graduating\": [True, False, False, False, True]\n",
        "}\n",
        "\n",
        "students_df = pd.DataFrame(data)\n",
        "print(students_df)\n"
      ],
      "metadata": {
        "id": "vC4zbLRDrMMB",
        "outputId": "7b616a4a-da54-4e7b-da67-1cbbf1255207",
        "colab": {
          "base_uri": "https://localhost:8080/"
        }
      },
      "execution_count": 9,
      "outputs": [
        {
          "output_type": "stream",
          "name": "stdout",
          "text": [
            "     Name  GPA  Credits  Graduating\n",
            "0  Nicole  3.9      120        True\n",
            "1   Ethan  3.6       98       False\n",
            "2     Ava  3.8      110       False\n",
            "3    Liam  3.4       85       False\n",
            "4  Sophia  4.0      130        True\n"
          ]
        }
      ]
    },
    {
      "cell_type": "code",
      "source": [
        "# Access a row using .loc[]\n",
        "print(students_df.loc[2])     # row with index 2 (Ava)\n",
        "\n",
        "# Access a column using bracket notation\n",
        "print(students_df[\"GPA\"])\n"
      ],
      "metadata": {
        "id": "LiMnqGjvrP8l",
        "outputId": "d742d9f5-62a5-49d9-f04c-d6ab049febe8",
        "colab": {
          "base_uri": "https://localhost:8080/"
        }
      },
      "execution_count": 10,
      "outputs": [
        {
          "output_type": "stream",
          "name": "stdout",
          "text": [
            "Name            Ava\n",
            "GPA             3.8\n",
            "Credits         110\n",
            "Graduating    False\n",
            "Name: 2, dtype: object\n",
            "0    3.9\n",
            "1    3.6\n",
            "2    3.8\n",
            "3    3.4\n",
            "4    4.0\n",
            "Name: GPA, dtype: float64\n"
          ]
        }
      ]
    },
    {
      "cell_type": "code",
      "source": [
        "print(students_df.shape)\n",
        "print(students_df.columns)\n",
        "print(students_df.info())"
      ],
      "metadata": {
        "id": "B3-ceD_RrX3G",
        "outputId": "fa565fcf-5b6b-4919-c07b-ef9df2b2d169",
        "colab": {
          "base_uri": "https://localhost:8080/"
        }
      },
      "execution_count": 11,
      "outputs": [
        {
          "output_type": "stream",
          "name": "stdout",
          "text": [
            "(5, 4)\n",
            "Index(['Name', 'GPA', 'Credits', 'Graduating'], dtype='object')\n",
            "<class 'pandas.core.frame.DataFrame'>\n",
            "RangeIndex: 5 entries, 0 to 4\n",
            "Data columns (total 4 columns):\n",
            " #   Column      Non-Null Count  Dtype  \n",
            "---  ------      --------------  -----  \n",
            " 0   Name        5 non-null      object \n",
            " 1   GPA         5 non-null      float64\n",
            " 2   Credits     5 non-null      int64  \n",
            " 3   Graduating  5 non-null      bool   \n",
            "dtypes: bool(1), float64(1), int64(1), object(1)\n",
            "memory usage: 257.0+ bytes\n",
            "None\n"
          ]
        }
      ]
    },
    {
      "cell_type": "markdown",
      "metadata": {
        "id": "gICKj4CHqpFq"
      },
      "source": [
        "---\n",
        "## 📎 Side Notes\n",
        "- A `Series` is like a single column of a spreadsheet.\n",
        "- A `DataFrame` is like the full spreadsheet.\n",
        "- Rows and columns can both have labels (called the **index** and **columns**).\n",
        "\n",
        "Next stop: loading data from the real world. Brace yourself for CSVs."
      ]
    }
  ],
  "metadata": {
    "kernelspec": {
      "display_name": "Python 3",
      "language": "python",
      "name": "python3"
    },
    "language_info": {
      "name": "python",
      "version": ""
    },
    "colab": {
      "provenance": [],
      "include_colab_link": true
    }
  },
  "nbformat": 4,
  "nbformat_minor": 0
}