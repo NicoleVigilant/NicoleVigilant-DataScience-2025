{
  "cells": [
    {
      "cell_type": "markdown",
      "metadata": {
        "id": "view-in-github",
        "colab_type": "text"
      },
      "source": [
        "<a href=\"https://colab.research.google.com/github/NicoleVigilant/NicoleVigilant-DataScience-2025/blob/main/Completed/04-Loops_and_Iteration/01-For_Loops.ipynb\" target=\"_parent\"><img src=\"https://colab.research.google.com/assets/colab-badge.svg\" alt=\"Open In Colab\"/></a>"
      ]
    },
    {
      "cell_type": "markdown",
      "id": "813b2cf5",
      "metadata": {
        "id": "813b2cf5"
      },
      "source": [
        "# 📘 01 - For Loops\n",
        "\n",
        "Learn how to use `for` loops to iterate over sequences."
      ]
    },
    {
      "cell_type": "markdown",
      "id": "f6afd4b0",
      "metadata": {
        "id": "f6afd4b0"
      },
      "source": [
        "## ✅ Learning Goals\n",
        "- Use `for` with lists, strings, and `range()`\n",
        "- Understand loop variables and block structure"
      ]
    },
    {
      "cell_type": "code",
      "execution_count": 1,
      "id": "16d9ab8e",
      "metadata": {
        "id": "16d9ab8e",
        "outputId": "3671ec3e-5734-4de2-f8bf-cbf10eb90e19",
        "colab": {
          "base_uri": "https://localhost:8080/"
        }
      },
      "outputs": [
        {
          "output_type": "stream",
          "name": "stdout",
          "text": [
            "apple\n",
            "banana\n",
            "cherry\n"
          ]
        }
      ],
      "source": [
        "# 🔁 Loop over a list\n",
        "fruits = ['apple', 'banana', 'cherry']\n",
        "for fruit in fruits:\n",
        "    print(fruit)"
      ]
    },
    {
      "cell_type": "code",
      "execution_count": 2,
      "id": "141bbd6b",
      "metadata": {
        "id": "141bbd6b",
        "outputId": "4a5ba332-f90a-435b-c818-fefb39c7b027",
        "colab": {
          "base_uri": "https://localhost:8080/"
        }
      },
      "outputs": [
        {
          "output_type": "stream",
          "name": "stdout",
          "text": [
            "h\n",
            "e\n",
            "l\n",
            "l\n",
            "o\n"
          ]
        }
      ],
      "source": [
        "# 🔁 Loop over characters in a string\n",
        "word = 'hello'\n",
        "for char in word:\n",
        "    print(char)"
      ]
    },
    {
      "cell_type": "code",
      "execution_count": 3,
      "id": "76012a44",
      "metadata": {
        "id": "76012a44",
        "outputId": "cb6c3c89-f360-4770-9052-8c8c68c723ff",
        "colab": {
          "base_uri": "https://localhost:8080/"
        }
      },
      "outputs": [
        {
          "output_type": "stream",
          "name": "stdout",
          "text": [
            "0\n",
            "1\n",
            "2\n",
            "3\n",
            "4\n"
          ]
        }
      ],
      "source": [
        "# 🔁 Using range()\n",
        "for i in range(5):\n",
        "    print(i)"
      ]
    },
    {
      "cell_type": "code",
      "execution_count": 4,
      "id": "43070de7",
      "metadata": {
        "id": "43070de7",
        "outputId": "77003533-0b81-4f93-e9c6-ecdb49b2a9da",
        "colab": {
          "base_uri": "https://localhost:8080/"
        }
      },
      "outputs": [
        {
          "output_type": "stream",
          "name": "stdout",
          "text": [
            "1 squared is 1\n",
            "2 squared is 4\n",
            "3 squared is 9\n",
            "4 squared is 16\n",
            "5 squared is 25\n"
          ]
        }
      ],
      "source": [
        "# ➕ Loop with math\n",
        "for i in range(1, 6):\n",
        "    print(f'{i} squared is', i ** 2)"
      ]
    },
    {
      "cell_type": "markdown",
      "id": "7f3e0f91",
      "metadata": {
        "id": "7f3e0f91"
      },
      "source": [
        "### ✏️ Your Turn\n",
        "Loop over a list of 3 favorite movies and print them in all caps."
      ]
    },
    {
      "cell_type": "code",
      "source": [
        "movies = [\"Divergent\", \"Me before you\", \"The Fifth Wave\"]\n",
        "\n",
        "for movie in movies:\n",
        "  print(movie.upper())\n",
        ""
      ],
      "metadata": {
        "id": "_VIkhmmSz5GN",
        "outputId": "644776a3-d76a-4143-ca38-abdf5502a735",
        "colab": {
          "base_uri": "https://localhost:8080/"
        }
      },
      "id": "_VIkhmmSz5GN",
      "execution_count": 5,
      "outputs": [
        {
          "output_type": "stream",
          "name": "stdout",
          "text": [
            "DIVERGENT\n",
            "ME BEFORE YOU\n",
            "THE FIFTH WAVE\n"
          ]
        }
      ]
    }
  ],
  "metadata": {
    "colab": {
      "provenance": [],
      "include_colab_link": true
    },
    "language_info": {
      "name": "python"
    },
    "kernelspec": {
      "name": "python3",
      "display_name": "Python 3"
    }
  },
  "nbformat": 4,
  "nbformat_minor": 5
}